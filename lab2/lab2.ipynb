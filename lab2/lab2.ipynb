{
 "cells": [
  {
   "cell_type": "markdown",
   "id": "aebcaad6",
   "metadata": {},
   "source": [
    "# Задание\n",
    "    Выбрать набор данных (датасет), содержащий категориальные признаки и пропуски в данных. Для выполнения следующих пунктов можно использовать несколько различных наборов данных (один для обработки пропусков, другой для категориальных признаков и т.д.)\n",
    "\n",
    "    Для выбранного датасета (датасетов) на основе материалов лекции решить следующие задачи:\n",
    "        - обработку пропусков в данных;\n",
    "        - кодирование категориальных признаков;\n",
    "        - масштабирование данных."
   ]
  },
  {
   "cell_type": "markdown",
   "id": "e2f5f343",
   "metadata": {},
   "source": [
    "# Обработка пропусков в данных, кодирование категориальных признаков, масштабирование данных.\n",
    "\n",
    "Рассмотрим датасет Global Power-Plants:\\\n",
    "Dataset shows list of 35K powerplants with their generation capacity\\\n",
    "и исследуем его.\n",
    "\n",
    "https://www.kaggle.com/datasets/ramjasmaurya/global-powerplants"
   ]
  },
  {
   "cell_type": "code",
   "execution_count": 3,
   "id": "09794fee",
   "metadata": {},
   "outputs": [],
   "source": [
    "import numpy as np\n",
    "import pandas as pd\n",
    "import seaborn as sns\n",
    "import matplotlib.pyplot as plt\n",
    "%matplotlib inline \n",
    "sns.set(style=\"ticks\")"
   ]
  },
  {
   "cell_type": "code",
   "execution_count": 4,
   "id": "828d9fa3",
   "metadata": {},
   "outputs": [],
   "source": [
    "# Будем использовать только обучающую выборку\n",
    "data = pd.read_csv('powerplants (global) - global_power_plants.csv', sep=\",\")"
   ]
  },
  {
   "cell_type": "code",
   "execution_count": 5,
   "id": "cd5c9d0d",
   "metadata": {},
   "outputs": [
    {
     "data": {
      "text/plain": [
       "(34936, 16)"
      ]
     },
     "execution_count": 5,
     "metadata": {},
     "output_type": "execute_result"
    }
   ],
   "source": [
    "data.shape"
   ]
  },
  {
   "cell_type": "code",
   "execution_count": 6,
   "id": "ca12615f",
   "metadata": {},
   "outputs": [
    {
     "data": {
      "text/plain": [
       "country code                      object\n",
       "country                           object\n",
       "name of powerplant                object\n",
       "capacity in MW                   float64\n",
       "latitude                         float64\n",
       "longitude                        float64\n",
       "primary_fuel                      object\n",
       "secondary fuel                    object\n",
       "other_fuel 1                      object\n",
       "other_fuel 2                      object\n",
       "start date                       float64\n",
       "owner of plant                    object\n",
       "geolocation_source                object\n",
       "generation_gwh_2020              float64\n",
       "generation_data_source            object\n",
       "estimated_generation_gwh_2020    float64\n",
       "dtype: object"
      ]
     },
     "execution_count": 6,
     "metadata": {},
     "output_type": "execute_result"
    }
   ],
   "source": [
    "data.dtypes"
   ]
  },
  {
   "cell_type": "code",
   "execution_count": 7,
   "id": "17d87520",
   "metadata": {},
   "outputs": [
    {
     "data": {
      "text/plain": [
       "country code                         0\n",
       "country                              0\n",
       "name of powerplant                   0\n",
       "capacity in MW                       0\n",
       "latitude                             0\n",
       "longitude                            0\n",
       "primary_fuel                         0\n",
       "secondary fuel                   32992\n",
       "other_fuel 1                     34660\n",
       "other_fuel 2                     34844\n",
       "start date                       17489\n",
       "owner of plant                   14068\n",
       "geolocation_source                 419\n",
       "generation_gwh_2020              25277\n",
       "generation_data_source           23536\n",
       "estimated_generation_gwh_2020     1798\n",
       "dtype: int64"
      ]
     },
     "execution_count": 7,
     "metadata": {},
     "output_type": "execute_result"
    }
   ],
   "source": [
    "# проверим есть ли пропущенные значения\n",
    "data.isnull().sum()"
   ]
  },
  {
   "cell_type": "code",
   "execution_count": 23,
   "id": "44480a75",
   "metadata": {},
   "outputs": [
    {
     "data": {
      "text/html": [
       "<div>\n",
       "<style scoped>\n",
       "    .dataframe tbody tr th:only-of-type {\n",
       "        vertical-align: middle;\n",
       "    }\n",
       "\n",
       "    .dataframe tbody tr th {\n",
       "        vertical-align: top;\n",
       "    }\n",
       "\n",
       "    .dataframe thead th {\n",
       "        text-align: right;\n",
       "    }\n",
       "</style>\n",
       "<table border=\"1\" class=\"dataframe\">\n",
       "  <thead>\n",
       "    <tr style=\"text-align: right;\">\n",
       "      <th></th>\n",
       "      <th>country code</th>\n",
       "      <th>country</th>\n",
       "      <th>name of powerplant</th>\n",
       "      <th>capacity in MW</th>\n",
       "      <th>latitude</th>\n",
       "      <th>longitude</th>\n",
       "      <th>primary_fuel</th>\n",
       "      <th>secondary fuel</th>\n",
       "      <th>other_fuel 1</th>\n",
       "      <th>other_fuel 2</th>\n",
       "      <th>start date</th>\n",
       "      <th>owner of plant</th>\n",
       "      <th>geolocation_source</th>\n",
       "      <th>generation_gwh_2020</th>\n",
       "      <th>generation_data_source</th>\n",
       "      <th>estimated_generation_gwh_2020</th>\n",
       "    </tr>\n",
       "  </thead>\n",
       "  <tbody>\n",
       "    <tr>\n",
       "      <th>0</th>\n",
       "      <td>AFG</td>\n",
       "      <td>Afghanistan</td>\n",
       "      <td>Kajaki Hydroelectric Power Plant Afghanistan</td>\n",
       "      <td>33.0</td>\n",
       "      <td>32.322</td>\n",
       "      <td>65.1190</td>\n",
       "      <td>Hydro</td>\n",
       "      <td>NaN</td>\n",
       "      <td>NaN</td>\n",
       "      <td>NaN</td>\n",
       "      <td>NaN</td>\n",
       "      <td>NaN</td>\n",
       "      <td>GEODB</td>\n",
       "      <td>NaN</td>\n",
       "      <td>NaN</td>\n",
       "      <td>119.50</td>\n",
       "    </tr>\n",
       "    <tr>\n",
       "      <th>1</th>\n",
       "      <td>AFG</td>\n",
       "      <td>Afghanistan</td>\n",
       "      <td>Kandahar DOG</td>\n",
       "      <td>10.0</td>\n",
       "      <td>31.670</td>\n",
       "      <td>65.7950</td>\n",
       "      <td>Solar</td>\n",
       "      <td>NaN</td>\n",
       "      <td>NaN</td>\n",
       "      <td>NaN</td>\n",
       "      <td>NaN</td>\n",
       "      <td>NaN</td>\n",
       "      <td>Wiki-Solar</td>\n",
       "      <td>NaN</td>\n",
       "      <td>NaN</td>\n",
       "      <td>18.29</td>\n",
       "    </tr>\n",
       "    <tr>\n",
       "      <th>2</th>\n",
       "      <td>AFG</td>\n",
       "      <td>Afghanistan</td>\n",
       "      <td>Kandahar JOL</td>\n",
       "      <td>10.0</td>\n",
       "      <td>31.623</td>\n",
       "      <td>65.7920</td>\n",
       "      <td>Solar</td>\n",
       "      <td>NaN</td>\n",
       "      <td>NaN</td>\n",
       "      <td>NaN</td>\n",
       "      <td>NaN</td>\n",
       "      <td>NaN</td>\n",
       "      <td>Wiki-Solar</td>\n",
       "      <td>NaN</td>\n",
       "      <td>NaN</td>\n",
       "      <td>18.72</td>\n",
       "    </tr>\n",
       "    <tr>\n",
       "      <th>3</th>\n",
       "      <td>AFG</td>\n",
       "      <td>Afghanistan</td>\n",
       "      <td>Mahipar Hydroelectric Power Plant Afghanistan</td>\n",
       "      <td>66.0</td>\n",
       "      <td>34.556</td>\n",
       "      <td>69.4787</td>\n",
       "      <td>Hydro</td>\n",
       "      <td>NaN</td>\n",
       "      <td>NaN</td>\n",
       "      <td>NaN</td>\n",
       "      <td>NaN</td>\n",
       "      <td>NaN</td>\n",
       "      <td>GEODB</td>\n",
       "      <td>NaN</td>\n",
       "      <td>NaN</td>\n",
       "      <td>174.91</td>\n",
       "    </tr>\n",
       "    <tr>\n",
       "      <th>4</th>\n",
       "      <td>AFG</td>\n",
       "      <td>Afghanistan</td>\n",
       "      <td>Naghlu Dam Hydroelectric Power Plant Afghanistan</td>\n",
       "      <td>100.0</td>\n",
       "      <td>34.641</td>\n",
       "      <td>69.7170</td>\n",
       "      <td>Hydro</td>\n",
       "      <td>NaN</td>\n",
       "      <td>NaN</td>\n",
       "      <td>NaN</td>\n",
       "      <td>NaN</td>\n",
       "      <td>NaN</td>\n",
       "      <td>GEODB</td>\n",
       "      <td>NaN</td>\n",
       "      <td>NaN</td>\n",
       "      <td>350.80</td>\n",
       "    </tr>\n",
       "  </tbody>\n",
       "</table>\n",
       "</div>"
      ],
      "text/plain": [
       "  country code      country                                name of powerplant  \\\n",
       "0          AFG  Afghanistan      Kajaki Hydroelectric Power Plant Afghanistan   \n",
       "1          AFG  Afghanistan                                      Kandahar DOG   \n",
       "2          AFG  Afghanistan                                      Kandahar JOL   \n",
       "3          AFG  Afghanistan     Mahipar Hydroelectric Power Plant Afghanistan   \n",
       "4          AFG  Afghanistan  Naghlu Dam Hydroelectric Power Plant Afghanistan   \n",
       "\n",
       "   capacity in MW  latitude  longitude primary_fuel secondary fuel  \\\n",
       "0            33.0    32.322    65.1190        Hydro            NaN   \n",
       "1            10.0    31.670    65.7950        Solar            NaN   \n",
       "2            10.0    31.623    65.7920        Solar            NaN   \n",
       "3            66.0    34.556    69.4787        Hydro            NaN   \n",
       "4           100.0    34.641    69.7170        Hydro            NaN   \n",
       "\n",
       "  other_fuel 1 other_fuel 2  start date owner of plant geolocation_source  \\\n",
       "0          NaN          NaN         NaN            NaN              GEODB   \n",
       "1          NaN          NaN         NaN            NaN         Wiki-Solar   \n",
       "2          NaN          NaN         NaN            NaN         Wiki-Solar   \n",
       "3          NaN          NaN         NaN            NaN              GEODB   \n",
       "4          NaN          NaN         NaN            NaN              GEODB   \n",
       "\n",
       "   generation_gwh_2020 generation_data_source  estimated_generation_gwh_2020  \n",
       "0                  NaN                    NaN                         119.50  \n",
       "1                  NaN                    NaN                          18.29  \n",
       "2                  NaN                    NaN                          18.72  \n",
       "3                  NaN                    NaN                         174.91  \n",
       "4                  NaN                    NaN                         350.80  "
      ]
     },
     "execution_count": 23,
     "metadata": {},
     "output_type": "execute_result"
    }
   ],
   "source": [
    "# Первые 5 строк датасета\n",
    "data.head()"
   ]
  },
  {
   "cell_type": "code",
   "execution_count": 8,
   "id": "875de75c",
   "metadata": {},
   "outputs": [
    {
     "data": {
      "text/plain": [
       "((34936, 16), (34936, 7))"
      ]
     },
     "execution_count": 8,
     "metadata": {},
     "output_type": "execute_result"
    }
   ],
   "source": [
    "# Удаление колонок, содержащих пустые значения\n",
    "data_new_1 = data.dropna(axis=1, how='any')\n",
    "(data.shape, data_new_1.shape)"
   ]
  },
  {
   "cell_type": "code",
   "execution_count": 9,
   "id": "241aa2b6",
   "metadata": {},
   "outputs": [
    {
     "name": "stdout",
     "output_type": "stream",
     "text": [
      "Колонка start date. Тип данных float64. Количество пустых значений 17489, 50.06%.\n",
      "Колонка generation_gwh_2020. Тип данных float64. Количество пустых значений 25277, 72.35%.\n",
      "Колонка estimated_generation_gwh_2020. Тип данных float64. Количество пустых значений 1798, 5.15%.\n"
     ]
    }
   ],
   "source": [
    "# Выберем числовые колонки с пропущенными значениями\n",
    "# Цикл по колонкам датасета\n",
    "num_cols = []\n",
    "for col in data.columns:\n",
    "    # Количество пустых значений \n",
    "    temp_null_count = data[data[col].isnull()].shape[0]\n",
    "    dt = str(data[col].dtype)\n",
    "    if temp_null_count>0 and (dt=='float64' or dt=='int64'):\n",
    "        num_cols.append(col)\n",
    "        temp_perc = round((temp_null_count / data.shape[0]) * 100.0, 2)\n",
    "        print('Колонка {}. Тип данных {}. Количество пустых значений {}, {}%.'.format(col, dt, temp_null_count, temp_perc))"
   ]
  },
  {
   "cell_type": "code",
   "execution_count": 10,
   "id": "346efec1",
   "metadata": {},
   "outputs": [
    {
     "data": {
      "text/html": [
       "<div>\n",
       "<style scoped>\n",
       "    .dataframe tbody tr th:only-of-type {\n",
       "        vertical-align: middle;\n",
       "    }\n",
       "\n",
       "    .dataframe tbody tr th {\n",
       "        vertical-align: top;\n",
       "    }\n",
       "\n",
       "    .dataframe thead th {\n",
       "        text-align: right;\n",
       "    }\n",
       "</style>\n",
       "<table border=\"1\" class=\"dataframe\">\n",
       "  <thead>\n",
       "    <tr style=\"text-align: right;\">\n",
       "      <th></th>\n",
       "      <th>start date</th>\n",
       "      <th>generation_gwh_2020</th>\n",
       "      <th>estimated_generation_gwh_2020</th>\n",
       "    </tr>\n",
       "  </thead>\n",
       "  <tbody>\n",
       "    <tr>\n",
       "      <th>0</th>\n",
       "      <td>NaN</td>\n",
       "      <td>NaN</td>\n",
       "      <td>119.50</td>\n",
       "    </tr>\n",
       "    <tr>\n",
       "      <th>1</th>\n",
       "      <td>NaN</td>\n",
       "      <td>NaN</td>\n",
       "      <td>18.29</td>\n",
       "    </tr>\n",
       "    <tr>\n",
       "      <th>2</th>\n",
       "      <td>NaN</td>\n",
       "      <td>NaN</td>\n",
       "      <td>18.72</td>\n",
       "    </tr>\n",
       "    <tr>\n",
       "      <th>3</th>\n",
       "      <td>NaN</td>\n",
       "      <td>NaN</td>\n",
       "      <td>174.91</td>\n",
       "    </tr>\n",
       "    <tr>\n",
       "      <th>4</th>\n",
       "      <td>NaN</td>\n",
       "      <td>NaN</td>\n",
       "      <td>350.80</td>\n",
       "    </tr>\n",
       "    <tr>\n",
       "      <th>...</th>\n",
       "      <td>...</td>\n",
       "      <td>...</td>\n",
       "      <td>...</td>\n",
       "    </tr>\n",
       "    <tr>\n",
       "      <th>34931</th>\n",
       "      <td>NaN</td>\n",
       "      <td>NaN</td>\n",
       "      <td>183.79</td>\n",
       "    </tr>\n",
       "    <tr>\n",
       "      <th>34932</th>\n",
       "      <td>NaN</td>\n",
       "      <td>NaN</td>\n",
       "      <td>73.51</td>\n",
       "    </tr>\n",
       "    <tr>\n",
       "      <th>34933</th>\n",
       "      <td>NaN</td>\n",
       "      <td>NaN</td>\n",
       "      <td>578.32</td>\n",
       "    </tr>\n",
       "    <tr>\n",
       "      <th>34934</th>\n",
       "      <td>NaN</td>\n",
       "      <td>NaN</td>\n",
       "      <td>2785.10</td>\n",
       "    </tr>\n",
       "    <tr>\n",
       "      <th>34935</th>\n",
       "      <td>NaN</td>\n",
       "      <td>NaN</td>\n",
       "      <td>3960.24</td>\n",
       "    </tr>\n",
       "  </tbody>\n",
       "</table>\n",
       "<p>34936 rows × 3 columns</p>\n",
       "</div>"
      ],
      "text/plain": [
       "       start date  generation_gwh_2020  estimated_generation_gwh_2020\n",
       "0             NaN                  NaN                         119.50\n",
       "1             NaN                  NaN                          18.29\n",
       "2             NaN                  NaN                          18.72\n",
       "3             NaN                  NaN                         174.91\n",
       "4             NaN                  NaN                         350.80\n",
       "...           ...                  ...                            ...\n",
       "34931         NaN                  NaN                         183.79\n",
       "34932         NaN                  NaN                          73.51\n",
       "34933         NaN                  NaN                         578.32\n",
       "34934         NaN                  NaN                        2785.10\n",
       "34935         NaN                  NaN                        3960.24\n",
       "\n",
       "[34936 rows x 3 columns]"
      ]
     },
     "execution_count": 10,
     "metadata": {},
     "output_type": "execute_result"
    }
   ],
   "source": [
    "# Фильтр по колонкам с пропущенными значениями\n",
    "data_num = data[num_cols]\n",
    "data_num"
   ]
  },
  {
   "cell_type": "code",
   "execution_count": 12,
   "id": "87886b2d",
   "metadata": {
    "scrolled": true
   },
   "outputs": [
    {
     "data": {
      "image/png": "[encoded data removed]",
      "text/plain": [
       "<Figure size 432x288 with 1 Axes>"
      ]
     },
     "metadata": {},
     "output_type": "display_data"
    },
    {
     "data": {
      "image/png": "[encoded data removed]",
      "text/plain": [
       "<Figure size 432x288 with 1 Axes>"
      ]
     },
     "metadata": {},
     "output_type": "display_data"
    },
    {
     "data": {
      "image/png": "[encoded data removed]",
      "text/plain": [
       "<Figure size 432x288 with 1 Axes>"
      ]
     },
     "metadata": {},
     "output_type": "display_data"
    }
   ],
   "source": [
    "# Гистограмма по признакам\n",
    "for col in data_num:\n",
    "    plt.hist(data[col], 50)\n",
    "    plt.xlabel(col)\n",
    "    plt.show()"
   ]
  },
  {
   "cell_type": "code",
   "execution_count": 38,
   "id": "679f82b7",
   "metadata": {},
   "outputs": [],
   "source": [
    "#введем необходимые функции, чтобы заполнить пропуски в числовых данных\n",
    "from sklearn.impute import SimpleImputer\n",
    "from sklearn.impute import MissingIndicator\n",
    "strategies=['mean', 'median', 'most_frequent']\n",
    "def test_num_impute_col(dataset, column, strategy_param):\n",
    "    temp_data = dataset[[column]]\n",
    "    \n",
    "    indicator = MissingIndicator()\n",
    "    mask_missing_values_only = indicator.fit_transform(temp_data)\n",
    "    \n",
    "    imp_num = SimpleImputer(strategy=strategy_param)\n",
    "    data_num_imp = imp_num.fit_transform(temp_data)\n",
    "    \n",
    "    filled_data = data_num_imp[mask_missing_values_only]\n",
    "    dataset[column] = data_num_imp\n",
    "    return column, strategy_param, filled_data.size, filled_data[0], filled_data[filled_data.size-1]"
   ]
  },
  {
   "cell_type": "code",
   "execution_count": 39,
   "id": "152b24f6",
   "metadata": {},
   "outputs": [
    {
     "data": {
      "text/html": [
       "<div>\n",
       "<style scoped>\n",
       "    .dataframe tbody tr th:only-of-type {\n",
       "        vertical-align: middle;\n",
       "    }\n",
       "\n",
       "    .dataframe tbody tr th {\n",
       "        vertical-align: top;\n",
       "    }\n",
       "\n",
       "    .dataframe thead th {\n",
       "        text-align: right;\n",
       "    }\n",
       "</style>\n",
       "<table border=\"1\" class=\"dataframe\">\n",
       "  <thead>\n",
       "    <tr style=\"text-align: right;\">\n",
       "      <th></th>\n",
       "      <th>country code</th>\n",
       "      <th>country</th>\n",
       "      <th>name of powerplant</th>\n",
       "      <th>capacity in MW</th>\n",
       "      <th>latitude</th>\n",
       "      <th>longitude</th>\n",
       "      <th>primary_fuel</th>\n",
       "      <th>secondary fuel</th>\n",
       "      <th>other_fuel 1</th>\n",
       "      <th>other_fuel 2</th>\n",
       "      <th>start date</th>\n",
       "      <th>owner of plant</th>\n",
       "      <th>geolocation_source</th>\n",
       "      <th>generation_gwh_2020</th>\n",
       "      <th>generation_data_source</th>\n",
       "      <th>estimated_generation_gwh_2020</th>\n",
       "    </tr>\n",
       "  </thead>\n",
       "  <tbody>\n",
       "    <tr>\n",
       "      <th>0</th>\n",
       "      <td>AFG</td>\n",
       "      <td>Afghanistan</td>\n",
       "      <td>Kajaki Hydroelectric Power Plant Afghanistan</td>\n",
       "      <td>33.0</td>\n",
       "      <td>32.322</td>\n",
       "      <td>65.1190</td>\n",
       "      <td>Hydro</td>\n",
       "      <td>NaN</td>\n",
       "      <td>NaN</td>\n",
       "      <td>NaN</td>\n",
       "      <td>0.0</td>\n",
       "      <td>NaN</td>\n",
       "      <td>GEODB</td>\n",
       "      <td>NaN</td>\n",
       "      <td>NaN</td>\n",
       "      <td>119.50</td>\n",
       "    </tr>\n",
       "    <tr>\n",
       "      <th>1</th>\n",
       "      <td>AFG</td>\n",
       "      <td>Afghanistan</td>\n",
       "      <td>Kandahar DOG</td>\n",
       "      <td>10.0</td>\n",
       "      <td>31.670</td>\n",
       "      <td>65.7950</td>\n",
       "      <td>Solar</td>\n",
       "      <td>NaN</td>\n",
       "      <td>NaN</td>\n",
       "      <td>NaN</td>\n",
       "      <td>0.0</td>\n",
       "      <td>NaN</td>\n",
       "      <td>Wiki-Solar</td>\n",
       "      <td>NaN</td>\n",
       "      <td>NaN</td>\n",
       "      <td>18.29</td>\n",
       "    </tr>\n",
       "    <tr>\n",
       "      <th>2</th>\n",
       "      <td>AFG</td>\n",
       "      <td>Afghanistan</td>\n",
       "      <td>Kandahar JOL</td>\n",
       "      <td>10.0</td>\n",
       "      <td>31.623</td>\n",
       "      <td>65.7920</td>\n",
       "      <td>Solar</td>\n",
       "      <td>NaN</td>\n",
       "      <td>NaN</td>\n",
       "      <td>NaN</td>\n",
       "      <td>0.0</td>\n",
       "      <td>NaN</td>\n",
       "      <td>Wiki-Solar</td>\n",
       "      <td>NaN</td>\n",
       "      <td>NaN</td>\n",
       "      <td>18.72</td>\n",
       "    </tr>\n",
       "    <tr>\n",
       "      <th>3</th>\n",
       "      <td>AFG</td>\n",
       "      <td>Afghanistan</td>\n",
       "      <td>Mahipar Hydroelectric Power Plant Afghanistan</td>\n",
       "      <td>66.0</td>\n",
       "      <td>34.556</td>\n",
       "      <td>69.4787</td>\n",
       "      <td>Hydro</td>\n",
       "      <td>NaN</td>\n",
       "      <td>NaN</td>\n",
       "      <td>NaN</td>\n",
       "      <td>0.0</td>\n",
       "      <td>NaN</td>\n",
       "      <td>GEODB</td>\n",
       "      <td>NaN</td>\n",
       "      <td>NaN</td>\n",
       "      <td>174.91</td>\n",
       "    </tr>\n",
       "    <tr>\n",
       "      <th>4</th>\n",
       "      <td>AFG</td>\n",
       "      <td>Afghanistan</td>\n",
       "      <td>Naghlu Dam Hydroelectric Power Plant Afghanistan</td>\n",
       "      <td>100.0</td>\n",
       "      <td>34.641</td>\n",
       "      <td>69.7170</td>\n",
       "      <td>Hydro</td>\n",
       "      <td>NaN</td>\n",
       "      <td>NaN</td>\n",
       "      <td>NaN</td>\n",
       "      <td>0.0</td>\n",
       "      <td>NaN</td>\n",
       "      <td>GEODB</td>\n",
       "      <td>NaN</td>\n",
       "      <td>NaN</td>\n",
       "      <td>350.80</td>\n",
       "    </tr>\n",
       "  </tbody>\n",
       "</table>\n",
       "</div>"
      ],
      "text/plain": [
       "  country code      country                                name of powerplant  \\\n",
       "0          AFG  Afghanistan      Kajaki Hydroelectric Power Plant Afghanistan   \n",
       "1          AFG  Afghanistan                                      Kandahar DOG   \n",
       "2          AFG  Afghanistan                                      Kandahar JOL   \n",
       "3          AFG  Afghanistan     Mahipar Hydroelectric Power Plant Afghanistan   \n",
       "4          AFG  Afghanistan  Naghlu Dam Hydroelectric Power Plant Afghanistan   \n",
       "\n",
       "   capacity in MW  latitude  longitude primary_fuel secondary fuel  \\\n",
       "0            33.0    32.322    65.1190        Hydro            NaN   \n",
       "1            10.0    31.670    65.7950        Solar            NaN   \n",
       "2            10.0    31.623    65.7920        Solar            NaN   \n",
       "3            66.0    34.556    69.4787        Hydro            NaN   \n",
       "4           100.0    34.641    69.7170        Hydro            NaN   \n",
       "\n",
       "  other_fuel 1 other_fuel 2  start date owner of plant geolocation_source  \\\n",
       "0          NaN          NaN         0.0            NaN              GEODB   \n",
       "1          NaN          NaN         0.0            NaN         Wiki-Solar   \n",
       "2          NaN          NaN         0.0            NaN         Wiki-Solar   \n",
       "3          NaN          NaN         0.0            NaN              GEODB   \n",
       "4          NaN          NaN         0.0            NaN              GEODB   \n",
       "\n",
       "   generation_gwh_2020 generation_data_source  estimated_generation_gwh_2020  \n",
       "0                  NaN                    NaN                         119.50  \n",
       "1                  NaN                    NaN                          18.29  \n",
       "2                  NaN                    NaN                          18.72  \n",
       "3                  NaN                    NaN                         174.91  \n",
       "4                  NaN                    NaN                         350.80  "
      ]
     },
     "execution_count": 39,
     "metadata": {},
     "output_type": "execute_result"
    }
   ],
   "source": [
    "data['start date'] = data['start date'].fillna(0)\n",
    "data.head()"
   ]
  },
  {
   "cell_type": "code",
   "execution_count": 40,
   "id": "98a24d08",
   "metadata": {},
   "outputs": [
    {
     "data": {
      "text/plain": [
       "('generation_gwh_2020', 'median', 25277, 11.53, 11.53)"
      ]
     },
     "execution_count": 40,
     "metadata": {},
     "output_type": "execute_result"
    }
   ],
   "source": [
    "test_num_impute_col(data, 'generation_gwh_2020', strategies[1])"
   ]
  },
  {
   "cell_type": "code",
   "execution_count": 41,
   "id": "8484516a",
   "metadata": {},
   "outputs": [
    {
     "data": {
      "text/plain": [
       "('estimated_generation_gwh_2020', 'median', 1798, 37.59, 37.59)"
      ]
     },
     "execution_count": 41,
     "metadata": {},
     "output_type": "execute_result"
    }
   ],
   "source": [
    "test_num_impute_col(data, 'estimated_generation_gwh_2020', strategies[1])"
   ]
  },
  {
   "cell_type": "code",
   "execution_count": 17,
   "id": "159b2a57",
   "metadata": {
    "scrolled": true
   },
   "outputs": [
    {
     "data": {
      "text/html": [
       "<div>\n",
       "<style scoped>\n",
       "    .dataframe tbody tr th:only-of-type {\n",
       "        vertical-align: middle;\n",
       "    }\n",
       "\n",
       "    .dataframe tbody tr th {\n",
       "        vertical-align: top;\n",
       "    }\n",
       "\n",
       "    .dataframe thead th {\n",
       "        text-align: right;\n",
       "    }\n",
       "</style>\n",
       "<table border=\"1\" class=\"dataframe\">\n",
       "  <thead>\n",
       "    <tr style=\"text-align: right;\">\n",
       "      <th></th>\n",
       "      <th>country code</th>\n",
       "      <th>country</th>\n",
       "      <th>name of powerplant</th>\n",
       "      <th>capacity in MW</th>\n",
       "      <th>latitude</th>\n",
       "      <th>longitude</th>\n",
       "      <th>primary_fuel</th>\n",
       "      <th>secondary fuel</th>\n",
       "      <th>other_fuel 1</th>\n",
       "      <th>other_fuel 2</th>\n",
       "      <th>start date</th>\n",
       "      <th>owner of plant</th>\n",
       "      <th>geolocation_source</th>\n",
       "      <th>generation_gwh_2020</th>\n",
       "      <th>generation_data_source</th>\n",
       "      <th>estimated_generation_gwh_2020</th>\n",
       "    </tr>\n",
       "  </thead>\n",
       "  <tbody>\n",
       "    <tr>\n",
       "      <th>0</th>\n",
       "      <td>AFG</td>\n",
       "      <td>Afghanistan</td>\n",
       "      <td>Kajaki Hydroelectric Power Plant Afghanistan</td>\n",
       "      <td>33.0</td>\n",
       "      <td>32.322</td>\n",
       "      <td>65.1190</td>\n",
       "      <td>Hydro</td>\n",
       "      <td>NaN</td>\n",
       "      <td>NaN</td>\n",
       "      <td>NaN</td>\n",
       "      <td>NaN</td>\n",
       "      <td>NaN</td>\n",
       "      <td>GEODB</td>\n",
       "      <td>NaN</td>\n",
       "      <td>NaN</td>\n",
       "      <td>119.50</td>\n",
       "    </tr>\n",
       "    <tr>\n",
       "      <th>1</th>\n",
       "      <td>AFG</td>\n",
       "      <td>Afghanistan</td>\n",
       "      <td>Kandahar DOG</td>\n",
       "      <td>10.0</td>\n",
       "      <td>31.670</td>\n",
       "      <td>65.7950</td>\n",
       "      <td>Solar</td>\n",
       "      <td>NaN</td>\n",
       "      <td>NaN</td>\n",
       "      <td>NaN</td>\n",
       "      <td>NaN</td>\n",
       "      <td>NaN</td>\n",
       "      <td>Wiki-Solar</td>\n",
       "      <td>NaN</td>\n",
       "      <td>NaN</td>\n",
       "      <td>18.29</td>\n",
       "    </tr>\n",
       "    <tr>\n",
       "      <th>2</th>\n",
       "      <td>AFG</td>\n",
       "      <td>Afghanistan</td>\n",
       "      <td>Kandahar JOL</td>\n",
       "      <td>10.0</td>\n",
       "      <td>31.623</td>\n",
       "      <td>65.7920</td>\n",
       "      <td>Solar</td>\n",
       "      <td>NaN</td>\n",
       "      <td>NaN</td>\n",
       "      <td>NaN</td>\n",
       "      <td>NaN</td>\n",
       "      <td>NaN</td>\n",
       "      <td>Wiki-Solar</td>\n",
       "      <td>NaN</td>\n",
       "      <td>NaN</td>\n",
       "      <td>18.72</td>\n",
       "    </tr>\n",
       "    <tr>\n",
       "      <th>3</th>\n",
       "      <td>AFG</td>\n",
       "      <td>Afghanistan</td>\n",
       "      <td>Mahipar Hydroelectric Power Plant Afghanistan</td>\n",
       "      <td>66.0</td>\n",
       "      <td>34.556</td>\n",
       "      <td>69.4787</td>\n",
       "      <td>Hydro</td>\n",
       "      <td>NaN</td>\n",
       "      <td>NaN</td>\n",
       "      <td>NaN</td>\n",
       "      <td>NaN</td>\n",
       "      <td>NaN</td>\n",
       "      <td>GEODB</td>\n",
       "      <td>NaN</td>\n",
       "      <td>NaN</td>\n",
       "      <td>174.91</td>\n",
       "    </tr>\n",
       "    <tr>\n",
       "      <th>4</th>\n",
       "      <td>AFG</td>\n",
       "      <td>Afghanistan</td>\n",
       "      <td>Naghlu Dam Hydroelectric Power Plant Afghanistan</td>\n",
       "      <td>100.0</td>\n",
       "      <td>34.641</td>\n",
       "      <td>69.7170</td>\n",
       "      <td>Hydro</td>\n",
       "      <td>NaN</td>\n",
       "      <td>NaN</td>\n",
       "      <td>NaN</td>\n",
       "      <td>NaN</td>\n",
       "      <td>NaN</td>\n",
       "      <td>GEODB</td>\n",
       "      <td>NaN</td>\n",
       "      <td>NaN</td>\n",
       "      <td>350.80</td>\n",
       "    </tr>\n",
       "  </tbody>\n",
       "</table>\n",
       "</div>"
      ],
      "text/plain": [
       "  country code      country                                name of powerplant  \\\n",
       "0          AFG  Afghanistan      Kajaki Hydroelectric Power Plant Afghanistan   \n",
       "1          AFG  Afghanistan                                      Kandahar DOG   \n",
       "2          AFG  Afghanistan                                      Kandahar JOL   \n",
       "3          AFG  Afghanistan     Mahipar Hydroelectric Power Plant Afghanistan   \n",
       "4          AFG  Afghanistan  Naghlu Dam Hydroelectric Power Plant Afghanistan   \n",
       "\n",
       "   capacity in MW  latitude  longitude primary_fuel secondary fuel  \\\n",
       "0            33.0    32.322    65.1190        Hydro            NaN   \n",
       "1            10.0    31.670    65.7950        Solar            NaN   \n",
       "2            10.0    31.623    65.7920        Solar            NaN   \n",
       "3            66.0    34.556    69.4787        Hydro            NaN   \n",
       "4           100.0    34.641    69.7170        Hydro            NaN   \n",
       "\n",
       "  other_fuel 1 other_fuel 2  start date owner of plant geolocation_source  \\\n",
       "0          NaN          NaN         NaN            NaN              GEODB   \n",
       "1          NaN          NaN         NaN            NaN         Wiki-Solar   \n",
       "2          NaN          NaN         NaN            NaN         Wiki-Solar   \n",
       "3          NaN          NaN         NaN            NaN              GEODB   \n",
       "4          NaN          NaN         NaN            NaN              GEODB   \n",
       "\n",
       "   generation_gwh_2020 generation_data_source  estimated_generation_gwh_2020  \n",
       "0                  NaN                    NaN                         119.50  \n",
       "1                  NaN                    NaN                          18.29  \n",
       "2                  NaN                    NaN                          18.72  \n",
       "3                  NaN                    NaN                         174.91  \n",
       "4                  NaN                    NaN                         350.80  "
      ]
     },
     "execution_count": 17,
     "metadata": {},
     "output_type": "execute_result"
    }
   ],
   "source": [
    "data.head()"
   ]
  },
  {
   "cell_type": "markdown",
   "id": "ff5ad859",
   "metadata": {},
   "source": [
    "Заполнинили \"start date\" и \"generation_gwh_2020\", \"estimated_generation_gwh_2020\" значениями \"0\" и \"median\" соответсвенно"
   ]
  },
  {
   "cell_type": "code",
   "execution_count": 44,
   "id": "08ce6367",
   "metadata": {},
   "outputs": [
    {
     "name": "stdout",
     "output_type": "stream",
     "text": [
      "Колонка secondary fuel. Тип данных object. Количество пустых значений 32992, 94.44%.\n",
      "Колонка other_fuel 1. Тип данных object. Количество пустых значений 34660, 99.21%.\n",
      "Колонка other_fuel 2. Тип данных object. Количество пустых значений 34844, 99.74%.\n",
      "Колонка owner of plant. Тип данных object. Количество пустых значений 14068, 40.27%.\n",
      "Колонка geolocation_source. Тип данных object. Количество пустых значений 419, 1.2%.\n",
      "Колонка generation_data_source. Тип данных object. Количество пустых значений 23536, 67.37%.\n"
     ]
    }
   ],
   "source": [
    "# Выберем категориальные колонки с пропущенными значениями\n",
    "# Цикл по колонкам датасета\n",
    "cat_cols = []\n",
    "for col in data.columns:\n",
    "    # Количество пустых значений \n",
    "    temp_null_count = data[data[col].isnull()].shape[0]\n",
    "    dt = str(data[col].dtype)\n",
    "    if temp_null_count>0 and (dt=='object'):\n",
    "        cat_cols.append(col)\n",
    "        temp_perc = round((temp_null_count / data.shape[0]) * 100.0, 2)\n",
    "        print('Колонка {}. Тип данных {}. Количество пустых значений {}, {}%.'.format(col, dt, temp_null_count, temp_perc))"
   ]
  },
  {
   "cell_type": "markdown",
   "id": "b6362922",
   "metadata": {},
   "source": [
    "Как видим удаление колонок в данном случае можно применить к колонкам \"secondary_fuel\", \"other_fuel 1\" и \"other_fuel 2\", т.к. очень маленький процент из всей выборки составляют реальные данные. Однако, чтобы не лишаться информации об этих колонках, заполним их значением \"None\""
   ]
  },
  {
   "cell_type": "code",
   "execution_count": 46,
   "id": "bc83de61",
   "metadata": {},
   "outputs": [
    {
     "data": {
      "text/plain": [
       "array([nan, 'Oil', 'Solar', 'Gas', 'Other', 'Hydro', 'Coal', 'Petcoke',\n",
       "       'Biomass', 'Waste', 'Cogeneration', 'Storage', 'Wind'],\n",
       "      dtype=object)"
      ]
     },
     "execution_count": 46,
     "metadata": {},
     "output_type": "execute_result"
    }
   ],
   "source": [
    "data['secondary fuel'].unique()"
   ]
  },
  {
   "cell_type": "code",
   "execution_count": 47,
   "id": "25babb83",
   "metadata": {},
   "outputs": [
    {
     "data": {
      "text/plain": [
       "array([nan, 'Other', 'Oil', 'Biomass', 'Gas', 'Solar', 'Waste', 'Storage',\n",
       "       'Hydro', 'Wind', 'Coal', 'Petcoke'], dtype=object)"
      ]
     },
     "execution_count": 47,
     "metadata": {},
     "output_type": "execute_result"
    }
   ],
   "source": [
    "data['other_fuel 1'].unique()"
   ]
  },
  {
   "cell_type": "code",
   "execution_count": 48,
   "id": "a7a9a985",
   "metadata": {
    "scrolled": true
   },
   "outputs": [
    {
     "data": {
      "text/plain": [
       "array([nan, 'Other', 'Gas', 'Solar', 'Biomass', 'Hydro', 'Oil', 'Wind',\n",
       "       'Storage'], dtype=object)"
      ]
     },
     "execution_count": 48,
     "metadata": {},
     "output_type": "execute_result"
    }
   ],
   "source": [
    "data['other_fuel 2'].unique()"
   ]
  },
  {
   "cell_type": "code",
   "execution_count": 20,
   "id": "5f5d97bf",
   "metadata": {},
   "outputs": [
    {
     "data": {
      "text/plain": [
       "array([nan, \"SociÃ©te AlgÃ©rienne de Production de l\\\\'ElectricitÃ©\",\n",
       "       'SociÃ©tÃ© AlgÃ©rienne de Production de lâ€™ElectricitÃ© (SPE)',\n",
       "       ..., 'ZESCO', 'Maamba Collieries', 'Zambia Sugar'], dtype=object)"
      ]
     },
     "execution_count": 20,
     "metadata": {},
     "output_type": "execute_result"
    }
   ],
   "source": [
    "data['owner of plant'].unique()"
   ]
  },
  {
   "cell_type": "code",
   "execution_count": 58,
   "id": "f0082db3",
   "metadata": {},
   "outputs": [
    {
     "data": {
      "text/html": [
       "<div>\n",
       "<style scoped>\n",
       "    .dataframe tbody tr th:only-of-type {\n",
       "        vertical-align: middle;\n",
       "    }\n",
       "\n",
       "    .dataframe tbody tr th {\n",
       "        vertical-align: top;\n",
       "    }\n",
       "\n",
       "    .dataframe thead th {\n",
       "        text-align: right;\n",
       "    }\n",
       "</style>\n",
       "<table border=\"1\" class=\"dataframe\">\n",
       "  <thead>\n",
       "    <tr style=\"text-align: right;\">\n",
       "      <th></th>\n",
       "      <th>country code</th>\n",
       "      <th>country</th>\n",
       "      <th>name of powerplant</th>\n",
       "      <th>capacity in MW</th>\n",
       "      <th>latitude</th>\n",
       "      <th>longitude</th>\n",
       "      <th>primary_fuel</th>\n",
       "      <th>secondary fuel</th>\n",
       "      <th>other_fuel 1</th>\n",
       "      <th>other_fuel 2</th>\n",
       "      <th>start date</th>\n",
       "      <th>owner of plant</th>\n",
       "      <th>geolocation_source</th>\n",
       "      <th>generation_gwh_2020</th>\n",
       "      <th>generation_data_source</th>\n",
       "      <th>estimated_generation_gwh_2020</th>\n",
       "    </tr>\n",
       "  </thead>\n",
       "  <tbody>\n",
       "    <tr>\n",
       "      <th>0</th>\n",
       "      <td>AFG</td>\n",
       "      <td>Afghanistan</td>\n",
       "      <td>Kajaki Hydroelectric Power Plant Afghanistan</td>\n",
       "      <td>33.0</td>\n",
       "      <td>32.322</td>\n",
       "      <td>65.1190</td>\n",
       "      <td>Hydro</td>\n",
       "      <td>None</td>\n",
       "      <td>None</td>\n",
       "      <td>None</td>\n",
       "      <td>0.0</td>\n",
       "      <td>None</td>\n",
       "      <td>None</td>\n",
       "      <td>11.53</td>\n",
       "      <td>None</td>\n",
       "      <td>119.50</td>\n",
       "    </tr>\n",
       "    <tr>\n",
       "      <th>1</th>\n",
       "      <td>AFG</td>\n",
       "      <td>Afghanistan</td>\n",
       "      <td>Kandahar DOG</td>\n",
       "      <td>10.0</td>\n",
       "      <td>31.670</td>\n",
       "      <td>65.7950</td>\n",
       "      <td>Solar</td>\n",
       "      <td>None</td>\n",
       "      <td>None</td>\n",
       "      <td>None</td>\n",
       "      <td>0.0</td>\n",
       "      <td>None</td>\n",
       "      <td>None</td>\n",
       "      <td>11.53</td>\n",
       "      <td>None</td>\n",
       "      <td>18.29</td>\n",
       "    </tr>\n",
       "    <tr>\n",
       "      <th>2</th>\n",
       "      <td>AFG</td>\n",
       "      <td>Afghanistan</td>\n",
       "      <td>Kandahar JOL</td>\n",
       "      <td>10.0</td>\n",
       "      <td>31.623</td>\n",
       "      <td>65.7920</td>\n",
       "      <td>Solar</td>\n",
       "      <td>None</td>\n",
       "      <td>None</td>\n",
       "      <td>None</td>\n",
       "      <td>0.0</td>\n",
       "      <td>None</td>\n",
       "      <td>None</td>\n",
       "      <td>11.53</td>\n",
       "      <td>None</td>\n",
       "      <td>18.72</td>\n",
       "    </tr>\n",
       "    <tr>\n",
       "      <th>3</th>\n",
       "      <td>AFG</td>\n",
       "      <td>Afghanistan</td>\n",
       "      <td>Mahipar Hydroelectric Power Plant Afghanistan</td>\n",
       "      <td>66.0</td>\n",
       "      <td>34.556</td>\n",
       "      <td>69.4787</td>\n",
       "      <td>Hydro</td>\n",
       "      <td>None</td>\n",
       "      <td>None</td>\n",
       "      <td>None</td>\n",
       "      <td>0.0</td>\n",
       "      <td>None</td>\n",
       "      <td>None</td>\n",
       "      <td>11.53</td>\n",
       "      <td>None</td>\n",
       "      <td>174.91</td>\n",
       "    </tr>\n",
       "    <tr>\n",
       "      <th>4</th>\n",
       "      <td>AFG</td>\n",
       "      <td>Afghanistan</td>\n",
       "      <td>Naghlu Dam Hydroelectric Power Plant Afghanistan</td>\n",
       "      <td>100.0</td>\n",
       "      <td>34.641</td>\n",
       "      <td>69.7170</td>\n",
       "      <td>Hydro</td>\n",
       "      <td>None</td>\n",
       "      <td>None</td>\n",
       "      <td>None</td>\n",
       "      <td>0.0</td>\n",
       "      <td>None</td>\n",
       "      <td>None</td>\n",
       "      <td>11.53</td>\n",
       "      <td>None</td>\n",
       "      <td>350.80</td>\n",
       "    </tr>\n",
       "  </tbody>\n",
       "</table>\n",
       "</div>"
      ],
      "text/plain": [
       "  country code      country                                name of powerplant  \\\n",
       "0          AFG  Afghanistan      Kajaki Hydroelectric Power Plant Afghanistan   \n",
       "1          AFG  Afghanistan                                      Kandahar DOG   \n",
       "2          AFG  Afghanistan                                      Kandahar JOL   \n",
       "3          AFG  Afghanistan     Mahipar Hydroelectric Power Plant Afghanistan   \n",
       "4          AFG  Afghanistan  Naghlu Dam Hydroelectric Power Plant Afghanistan   \n",
       "\n",
       "   capacity in MW  latitude  longitude primary_fuel secondary fuel  \\\n",
       "0            33.0    32.322    65.1190        Hydro           None   \n",
       "1            10.0    31.670    65.7950        Solar           None   \n",
       "2            10.0    31.623    65.7920        Solar           None   \n",
       "3            66.0    34.556    69.4787        Hydro           None   \n",
       "4           100.0    34.641    69.7170        Hydro           None   \n",
       "\n",
       "  other_fuel 1 other_fuel 2  start date owner of plant geolocation_source  \\\n",
       "0         None         None         0.0           None               None   \n",
       "1         None         None         0.0           None               None   \n",
       "2         None         None         0.0           None               None   \n",
       "3         None         None         0.0           None               None   \n",
       "4         None         None         0.0           None               None   \n",
       "\n",
       "   generation_gwh_2020 generation_data_source  estimated_generation_gwh_2020  \n",
       "0                11.53                   None                         119.50  \n",
       "1                11.53                   None                          18.29  \n",
       "2                11.53                   None                          18.72  \n",
       "3                11.53                   None                         174.91  \n",
       "4                11.53                   None                         350.80  "
      ]
     },
     "execution_count": 58,
     "metadata": {},
     "output_type": "execute_result"
    }
   ],
   "source": [
    "imp = SimpleImputer(missing_values=np.nan, strategy='constant', fill_value='None')\n",
    "data[['secondary fuel']] = imp.fit_transform(data[['secondary fuel']])\n",
    "data[['other_fuel 1']] = imp.fit_transform(data[['secondary fuel']])\n",
    "data[['other_fuel 2']] = imp.fit_transform(data[['secondary fuel']])\n",
    "data[['owner of plant']] = imp.fit_transform(data[['secondary fuel']])\n",
    "data[['geolocation_source']] = imp.fit_transform(data[['secondary fuel']])\n",
    "data[['generation_data_source']] = imp.fit_transform(data[['secondary fuel']])\n",
    "\n",
    "data.head()\n"
   ]
  },
  {
   "cell_type": "markdown",
   "id": "9c735dda",
   "metadata": {},
   "source": [
    "Закодируем признаки колонки \"primary_fuel\" целочисленнми значениями"
   ]
  },
  {
   "cell_type": "code",
   "execution_count": 59,
   "id": "9ba7db4c",
   "metadata": {},
   "outputs": [
    {
     "data": {
      "text/plain": [
       "array(['Hydro', 'Solar', 'Gas', 'Other', 'Oil', 'Wind', 'Nuclear', 'Coal',\n",
       "       'Waste', 'Biomass', 'Wave and Tidal', 'Petcoke', 'Geothermal',\n",
       "       'Storage', 'Cogeneration'], dtype=object)"
      ]
     },
     "execution_count": 59,
     "metadata": {},
     "output_type": "execute_result"
    }
   ],
   "source": [
    "from sklearn.preprocessing import LabelEncoder\n",
    "data['primary_fuel'].unique()"
   ]
  },
  {
   "cell_type": "code",
   "execution_count": 60,
   "id": "96617f76",
   "metadata": {},
   "outputs": [
    {
     "data": {
      "text/plain": [
       "array([ 5, 10, 10, ...,  5,  1,  5])"
      ]
     },
     "execution_count": 60,
     "metadata": {},
     "output_type": "execute_result"
    }
   ],
   "source": [
    "le = LabelEncoder()\n",
    "data1 = le.fit_transform(data['primary_fuel'])\n",
    "data1"
   ]
  },
  {
   "cell_type": "code",
   "execution_count": 63,
   "id": "f295b90b",
   "metadata": {},
   "outputs": [
    {
     "data": {
      "text/plain": [
       "array([ 0,  1,  2,  3,  4,  5,  6,  7,  8,  9, 10, 11, 12, 13, 14])"
      ]
     },
     "execution_count": 63,
     "metadata": {},
     "output_type": "execute_result"
    }
   ],
   "source": [
    "np.unique(data1)"
   ]
  },
  {
   "cell_type": "code",
   "execution_count": 66,
   "id": "05382bae",
   "metadata": {},
   "outputs": [
    {
     "data": {
      "text/plain": [
       "array(['Biomass', 'Coal', 'Cogeneration', 'Gas', 'Geothermal', 'Hydro',\n",
       "       'Nuclear', 'Oil', 'Other', 'Petcoke', 'Solar', 'Storage', 'Waste',\n",
       "       'Wave and Tidal', 'Wind'], dtype=object)"
      ]
     },
     "execution_count": 66,
     "metadata": {},
     "output_type": "execute_result"
    }
   ],
   "source": [
    "data1 = le.inverse_transform([ 0,  1,  2,  3,  4,  5,  6,  7,  8,  9, 10, 11, 12, 13, 14])\n",
    "data1"
   ]
  },
  {
   "cell_type": "code",
   "execution_count": 68,
   "id": "d2c686b8",
   "metadata": {},
   "outputs": [
    {
     "data": {
      "text/html": [
       "<div>\n",
       "<style scoped>\n",
       "    .dataframe tbody tr th:only-of-type {\n",
       "        vertical-align: middle;\n",
       "    }\n",
       "\n",
       "    .dataframe tbody tr th {\n",
       "        vertical-align: top;\n",
       "    }\n",
       "\n",
       "    .dataframe thead th {\n",
       "        text-align: right;\n",
       "    }\n",
       "</style>\n",
       "<table border=\"1\" class=\"dataframe\">\n",
       "  <thead>\n",
       "    <tr style=\"text-align: right;\">\n",
       "      <th></th>\n",
       "      <th>Biomass</th>\n",
       "      <th>Coal</th>\n",
       "      <th>Cogeneration</th>\n",
       "      <th>Gas</th>\n",
       "      <th>Geothermal</th>\n",
       "      <th>Hydro</th>\n",
       "      <th>Nuclear</th>\n",
       "      <th>Oil</th>\n",
       "      <th>Other</th>\n",
       "      <th>Petcoke</th>\n",
       "      <th>Solar</th>\n",
       "      <th>Storage</th>\n",
       "      <th>Waste</th>\n",
       "      <th>Wave and Tidal</th>\n",
       "      <th>Wind</th>\n",
       "    </tr>\n",
       "  </thead>\n",
       "  <tbody>\n",
       "    <tr>\n",
       "      <th>0</th>\n",
       "      <td>0</td>\n",
       "      <td>0</td>\n",
       "      <td>0</td>\n",
       "      <td>0</td>\n",
       "      <td>0</td>\n",
       "      <td>1</td>\n",
       "      <td>0</td>\n",
       "      <td>0</td>\n",
       "      <td>0</td>\n",
       "      <td>0</td>\n",
       "      <td>0</td>\n",
       "      <td>0</td>\n",
       "      <td>0</td>\n",
       "      <td>0</td>\n",
       "      <td>0</td>\n",
       "    </tr>\n",
       "    <tr>\n",
       "      <th>1</th>\n",
       "      <td>0</td>\n",
       "      <td>0</td>\n",
       "      <td>0</td>\n",
       "      <td>0</td>\n",
       "      <td>0</td>\n",
       "      <td>0</td>\n",
       "      <td>0</td>\n",
       "      <td>0</td>\n",
       "      <td>0</td>\n",
       "      <td>0</td>\n",
       "      <td>1</td>\n",
       "      <td>0</td>\n",
       "      <td>0</td>\n",
       "      <td>0</td>\n",
       "      <td>0</td>\n",
       "    </tr>\n",
       "    <tr>\n",
       "      <th>2</th>\n",
       "      <td>0</td>\n",
       "      <td>0</td>\n",
       "      <td>0</td>\n",
       "      <td>0</td>\n",
       "      <td>0</td>\n",
       "      <td>0</td>\n",
       "      <td>0</td>\n",
       "      <td>0</td>\n",
       "      <td>0</td>\n",
       "      <td>0</td>\n",
       "      <td>1</td>\n",
       "      <td>0</td>\n",
       "      <td>0</td>\n",
       "      <td>0</td>\n",
       "      <td>0</td>\n",
       "    </tr>\n",
       "    <tr>\n",
       "      <th>3</th>\n",
       "      <td>0</td>\n",
       "      <td>0</td>\n",
       "      <td>0</td>\n",
       "      <td>0</td>\n",
       "      <td>0</td>\n",
       "      <td>1</td>\n",
       "      <td>0</td>\n",
       "      <td>0</td>\n",
       "      <td>0</td>\n",
       "      <td>0</td>\n",
       "      <td>0</td>\n",
       "      <td>0</td>\n",
       "      <td>0</td>\n",
       "      <td>0</td>\n",
       "      <td>0</td>\n",
       "    </tr>\n",
       "    <tr>\n",
       "      <th>4</th>\n",
       "      <td>0</td>\n",
       "      <td>0</td>\n",
       "      <td>0</td>\n",
       "      <td>0</td>\n",
       "      <td>0</td>\n",
       "      <td>1</td>\n",
       "      <td>0</td>\n",
       "      <td>0</td>\n",
       "      <td>0</td>\n",
       "      <td>0</td>\n",
       "      <td>0</td>\n",
       "      <td>0</td>\n",
       "      <td>0</td>\n",
       "      <td>0</td>\n",
       "      <td>0</td>\n",
       "    </tr>\n",
       "  </tbody>\n",
       "</table>\n",
       "</div>"
      ],
      "text/plain": [
       "   Biomass  Coal  Cogeneration  Gas  Geothermal  Hydro  Nuclear  Oil  Other  \\\n",
       "0        0     0             0    0           0      1        0    0      0   \n",
       "1        0     0             0    0           0      0        0    0      0   \n",
       "2        0     0             0    0           0      0        0    0      0   \n",
       "3        0     0             0    0           0      1        0    0      0   \n",
       "4        0     0             0    0           0      1        0    0      0   \n",
       "\n",
       "   Petcoke  Solar  Storage  Waste  Wave and Tidal  Wind  \n",
       "0        0      0        0      0               0     0  \n",
       "1        0      1        0      0               0     0  \n",
       "2        0      1        0      0               0     0  \n",
       "3        0      0        0      0               0     0  \n",
       "4        0      0        0      0               0     0  "
      ]
     },
     "execution_count": 68,
     "metadata": {},
     "output_type": "execute_result"
    }
   ],
   "source": [
    "pd.get_dummies(data['primary_fuel']).head()"
   ]
  },
  {
   "cell_type": "markdown",
   "id": "702fb704",
   "metadata": {},
   "source": [
    "Далее применим масштабирование MINMAX и на основе Z-оценки для колонки \"longitude\""
   ]
  },
  {
   "cell_type": "code",
   "execution_count": 79,
   "id": "1f89eaff",
   "metadata": {},
   "outputs": [
    {
     "data": {
      "image/png": "[encoded data removed]",
      "text/plain": [
       "<Figure size 432x288 with 1 Axes>"
      ]
     },
     "metadata": {},
     "output_type": "display_data"
    },
    {
     "data": {
      "image/png": "[encoded data removed]",
      "text/plain": [
       "<Figure size 432x288 with 1 Axes>"
      ]
     },
     "metadata": {},
     "output_type": "display_data"
    }
   ],
   "source": [
    "from sklearn.preprocessing import MinMaxScaler, StandardScaler, Normalizer\n",
    "sc1 = MinMaxScaler()\n",
    "sc1_data = sc1.fit_transform(data[['longitude']])\n",
    "plt.hist(data['longitude'], 50)\n",
    "plt.show()\n",
    "plt.hist(sc1_data, 50)\n",
    "plt.show()"
   ]
  },
  {
   "cell_type": "code",
   "execution_count": 80,
   "id": "817b633c",
   "metadata": {},
   "outputs": [
    {
     "data": {
      "image/png": "[encoded data removed]",
      "text/plain": [
       "<Figure size 432x288 with 1 Axes>"
      ]
     },
     "metadata": {},
     "output_type": "display_data"
    },
    {
     "data": {
      "image/png": "[encoded data removed]",
      "text/plain": [
       "<Figure size 432x288 with 1 Axes>"
      ]
     },
     "metadata": {},
     "output_type": "display_data"
    }
   ],
   "source": [
    "sc2 = StandardScaler()\n",
    "sc2_data = sc2.fit_transform(data[['longitude']])\n",
    "plt.hist(data['longitude'], 50)\n",
    "plt.show()\n",
    "plt.hist(sc2_data, 50)\n",
    "plt.show()"
   ]
  }
 ],
 "metadata": {
  "kernelspec": {
   "display_name": "Python 3 (ipykernel)",
   "language": "python",
   "name": "python3"
  },
  "language_info": {
   "codemirror_mode": {
    "name": "ipython",
    "version": 3
   },
   "file_extension": ".py",
   "mimetype": "text/x-python",
   "name": "python",
   "nbconvert_exporter": "python",
   "pygments_lexer": "ipython3",
   "version": "3.9.7"
  }
 },
 "nbformat": 4,
 "nbformat_minor": 5
}
