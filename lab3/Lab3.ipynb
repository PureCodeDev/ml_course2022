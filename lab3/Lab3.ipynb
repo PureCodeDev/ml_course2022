{
 "cells": [
  {
   "cell_type": "markdown",
   "id": "041fe109",
   "metadata": {},
   "source": [
    "# Лабораторная работа №3\n",
    "## Подготовка обучающей и тестовой выборки, кросс-валидация и подбор гиперпараметров на примере метода ближайших соседей "
   ]
  },
  {
   "cell_type": "markdown",
   "id": "7133868b",
   "metadata": {},
   "source": [
    "## Задание:\n",
    "1. Выберите набор данных (датасет) для решения задачи классификации или регрессии.\n",
    "2. С использованием метода train_test_split разделите выборку на обучающую и тестовую.\n",
    "3. Обучите модель ближайших соседей для произвольно заданного гиперпараметра K. Оцените качество модели с помощью подходящих для задачи метрик.\n",
    "4. Произведите подбор гиперпараметра K с использованием GridSearchCV и/или RandomizedSearchCV и кросс-валидации, оцените качество оптимальной модели. Желательно использование нескольких стратегий кросс-валидации.\n",
    "5. Сравните метрики качества исходной и оптимальной моделей."
   ]
  },
  {
   "cell_type": "code",
   "execution_count": 374,
   "id": "bc0ac1a7",
   "metadata": {},
   "outputs": [],
   "source": [
    "import pandas as pd\n",
    "from sklearn.model_selection import train_test_split\n",
    "import numpy as np\n",
    "from sklearn.metrics import mean_squared_error, r2_score \n",
    "from typing import Dict, Tuple\n",
    "import seaborn as sns\n",
    "from sklearn.neighbors import KNeighborsClassifier\n",
    "from sklearn.model_selection import GridSearchCV, learning_curve\n",
    "from sklearn.model_selection import KFold, RepeatedKFold, StratifiedKFold, StratifiedShuffleSplit\n",
    "from sklearn.metrics import accuracy_score, balanced_accuracy_score\n",
    "from sklearn.metrics import plot_confusion_matrix\n",
    "from sklearn.metrics import precision_score, recall_score, f1_score, classification_report\n",
    "from sklearn.metrics import confusion_matrix\n",
    "from sklearn.metrics import mean_absolute_error, mean_squared_error, mean_squared_log_error, median_absolute_error, r2_score \n",
    "from sklearn.metrics import roc_curve, roc_auc_score\n",
    "import matplotlib.pyplot as plt\n",
    "import matplotlib.ticker as ticker"
   ]
  },
  {
   "cell_type": "markdown",
   "id": "fc4f4b1f",
   "metadata": {},
   "source": [
    "В качестве датасета выберем набор данных о фруктах\n",
    "\n",
    "https://www.kaggle.com/datasets/mjamilmoughal/fruits-with-colors-dataset"
   ]
  },
  {
   "cell_type": "code",
   "execution_count": 392,
   "id": "63c05006",
   "metadata": {},
   "outputs": [
    {
     "data": {
      "text/html": [
       "<div>\n",
       "<style scoped>\n",
       "    .dataframe tbody tr th:only-of-type {\n",
       "        vertical-align: middle;\n",
       "    }\n",
       "\n",
       "    .dataframe tbody tr th {\n",
       "        vertical-align: top;\n",
       "    }\n",
       "\n",
       "    .dataframe thead th {\n",
       "        text-align: right;\n",
       "    }\n",
       "</style>\n",
       "<table border=\"1\" class=\"dataframe\">\n",
       "  <thead>\n",
       "    <tr style=\"text-align: right;\">\n",
       "      <th></th>\n",
       "      <th>fruit_label</th>\n",
       "      <th>fruit_name</th>\n",
       "      <th>fruit_subtype</th>\n",
       "      <th>mass</th>\n",
       "      <th>width</th>\n",
       "      <th>height</th>\n",
       "      <th>color_score</th>\n",
       "    </tr>\n",
       "  </thead>\n",
       "  <tbody>\n",
       "    <tr>\n",
       "      <th>0</th>\n",
       "      <td>1</td>\n",
       "      <td>apple</td>\n",
       "      <td>granny_smith</td>\n",
       "      <td>192</td>\n",
       "      <td>8.4</td>\n",
       "      <td>7.3</td>\n",
       "      <td>0.55</td>\n",
       "    </tr>\n",
       "    <tr>\n",
       "      <th>1</th>\n",
       "      <td>1</td>\n",
       "      <td>apple</td>\n",
       "      <td>granny_smith</td>\n",
       "      <td>180</td>\n",
       "      <td>8.0</td>\n",
       "      <td>6.8</td>\n",
       "      <td>0.59</td>\n",
       "    </tr>\n",
       "    <tr>\n",
       "      <th>2</th>\n",
       "      <td>1</td>\n",
       "      <td>apple</td>\n",
       "      <td>granny_smith</td>\n",
       "      <td>176</td>\n",
       "      <td>7.4</td>\n",
       "      <td>7.2</td>\n",
       "      <td>0.60</td>\n",
       "    </tr>\n",
       "    <tr>\n",
       "      <th>3</th>\n",
       "      <td>2</td>\n",
       "      <td>mandarin</td>\n",
       "      <td>mandarin</td>\n",
       "      <td>86</td>\n",
       "      <td>6.2</td>\n",
       "      <td>4.7</td>\n",
       "      <td>0.80</td>\n",
       "    </tr>\n",
       "    <tr>\n",
       "      <th>4</th>\n",
       "      <td>2</td>\n",
       "      <td>mandarin</td>\n",
       "      <td>mandarin</td>\n",
       "      <td>84</td>\n",
       "      <td>6.0</td>\n",
       "      <td>4.6</td>\n",
       "      <td>0.79</td>\n",
       "    </tr>\n",
       "  </tbody>\n",
       "</table>\n",
       "</div>"
      ],
      "text/plain": [
       "   fruit_label fruit_name fruit_subtype  mass  width  height  color_score\n",
       "0            1      apple  granny_smith   192    8.4     7.3         0.55\n",
       "1            1      apple  granny_smith   180    8.0     6.8         0.59\n",
       "2            1      apple  granny_smith   176    7.4     7.2         0.60\n",
       "3            2   mandarin      mandarin    86    6.2     4.7         0.80\n",
       "4            2   mandarin      mandarin    84    6.0     4.6         0.79"
      ]
     },
     "execution_count": 392,
     "metadata": {},
     "output_type": "execute_result"
    }
   ],
   "source": [
    "data = pd.read_csv(\"fruit_data_with_colors.txt\", sep = '\\s+')\n",
    "data.head()"
   ]
  },
  {
   "cell_type": "code",
   "execution_count": 7,
   "id": "7e4bf547",
   "metadata": {},
   "outputs": [
    {
     "data": {
      "text/plain": [
       "fruit_label      0\n",
       "fruit_name       0\n",
       "fruit_subtype    0\n",
       "mass             0\n",
       "width            0\n",
       "height           0\n",
       "color_score      0\n",
       "dtype: int64"
      ]
     },
     "execution_count": 7,
     "metadata": {},
     "output_type": "execute_result"
    }
   ],
   "source": [
    "#проверим наличие нулевых значений\n",
    "data.isnull().sum()"
   ]
  },
  {
   "cell_type": "code",
   "execution_count": 73,
   "id": "ba90ac1d",
   "metadata": {},
   "outputs": [],
   "source": [
    "#разделим выборку на обучающую и тестовую\n",
    "fruit_x_train, fruit_x_test, fruit_y_train, fruit_y_test = train_test_split(\n",
    "    data[[\"mass\",\"width\",\"height\",\"color_score\"]],\n",
    "    data[['fruit_label']], test_size = 0.2, random_state = 1)"
   ]
  },
  {
   "cell_type": "code",
   "execution_count": 82,
   "id": "21712a14",
   "metadata": {
    "scrolled": true
   },
   "outputs": [
    {
     "data": {
      "text/plain": [
       "((47, 4), (12, 4))"
      ]
     },
     "execution_count": 82,
     "metadata": {},
     "output_type": "execute_result"
    }
   ],
   "source": [
    "fruit_x_train.shape, fruit_x_test.shape"
   ]
  },
  {
   "cell_type": "code",
   "execution_count": 84,
   "id": "7a007d7e",
   "metadata": {},
   "outputs": [
    {
     "data": {
      "text/plain": [
       "((47, 1), (12, 1))"
      ]
     },
     "execution_count": 84,
     "metadata": {},
     "output_type": "execute_result"
    }
   ],
   "source": [
    "fruit_y_train.shape, fruit_y_test.shape"
   ]
  },
  {
   "cell_type": "code",
   "execution_count": 68,
   "id": "344c3222",
   "metadata": {},
   "outputs": [
    {
     "data": {
      "image/png": "[encoded data removed]",
      "text/plain": [
       "<Figure size 1440x1440 with 1 Axes>"
      ]
     },
     "metadata": {
      "needs_background": "light"
     },
     "output_type": "display_data"
    }
   ],
   "source": [
    "# визуализация выборки\n",
    "fig, ax = plt.subplots(figsize=(20,20))\n",
    "\n",
    "ax.plot(fruit_x_train['width'], fruit_x_train['height'], 'b.', \\\n",
    "         fruit_x_test['width'], fruit_x_test['height'], 'ro')\n",
    "\n",
    "# деления на осях и сетка\n",
    "ax.xaxis.set_major_locator(ticker.MultipleLocator(1))\n",
    "ax.yaxis.set_major_locator(ticker.MultipleLocator(1))\n",
    "ax.grid(which='major', color = 'k')\n",
    "\n",
    "# подписи к осям\n",
    "plt.xlabel('$width$')\n",
    "plt.ylabel('$height$')\n",
    "   \n",
    "# подписи \n",
    "for coords in data[['width','height', 'fruit_label', 'fruit_name']].values:\n",
    "    x1, x2, fruit_label, fruit_name = coords[0], coords[1], coords[2], coords[3]\n",
    "    #label = '{} ({})'.format(y_cl, cl)\n",
    "    #ax.text(x1 + 0.1, x2, label, style='italic', fontsize=7)\n",
    "    ax.text(x1-0.05, x2-0.05, fruit_name, style='italic', fontsize=10)\n",
    "    ax.text(x1, x2, fruit_label, style='italic', fontsize=10)\n",
    "\n",
    "plt.show()  "
   ]
  },
  {
   "cell_type": "markdown",
   "id": "c2812bee",
   "metadata": {},
   "source": [
    "### С помощью метода ближайших соседей KNN будем решать задачу классификации"
   ]
  },
  {
   "cell_type": "code",
   "execution_count": 313,
   "id": "f78536d9",
   "metadata": {},
   "outputs": [
    {
     "data": {
      "text/plain": [
       "(12, array([4, 1, 1, 4, 3, 1, 1, 1, 1, 4, 4, 2], dtype=int64))"
      ]
     },
     "execution_count": 313,
     "metadata": {},
     "output_type": "execute_result"
    }
   ],
   "source": [
    "# 3 ближайших соседа\n",
    "cl1 = KNeighborsClassifier(n_neighbors=3)\n",
    "cl1.fit(fruit_x_train[[\"width\",\"height\"]], fruit_y_train.values.ravel())#?\n",
    "target1 = cl1.predict(fruit_x_test[[\"width\",\"height\"]])\n",
    "target1_2 = cl1.predict(fruit_x_train[[\"width\",\"height\"]])\n",
    "len(target1), target1"
   ]
  },
  {
   "cell_type": "code",
   "execution_count": 314,
   "id": "b79ad312",
   "metadata": {},
   "outputs": [
    {
     "data": {
      "text/plain": [
       "(12, array([4, 1, 3, 4, 3, 1, 1, 1, 1, 4, 4, 2], dtype=int64))"
      ]
     },
     "execution_count": 314,
     "metadata": {},
     "output_type": "execute_result"
    }
   ],
   "source": [
    "# 7 ближайших соседа\n",
    "cl2 = KNeighborsClassifier(n_neighbors=7)\n",
    "cl2.fit(fruit_x_train[[\"width\",\"height\"]], fruit_y_train.values.ravel())#?\n",
    "target2 = cl2.predict(fruit_x_test[[\"width\",\"height\"]])\n",
    "target2_2 = cl2.predict(fruit_x_train[[\"width\",\"height\"]])\n",
    "len(target2), target2"
   ]
  },
  {
   "cell_type": "markdown",
   "id": "c3c68f82",
   "metadata": {},
   "source": [
    "Проверим качество модели с помощью метрик классификации\n",
    "    \n",
    "##### Accuracy"
   ]
  },
  {
   "cell_type": "code",
   "execution_count": 319,
   "id": "522c21a1",
   "metadata": {},
   "outputs": [
    {
     "data": {
      "text/plain": [
       "(0.75, 0.8936170212765957)"
      ]
     },
     "execution_count": 319,
     "metadata": {},
     "output_type": "execute_result"
    }
   ],
   "source": [
    "#для 3 ближайших соседей\n",
    "accuracy_score(fruit_y_test, target1), accuracy_score(fruit_y_train, target1_2)"
   ]
  },
  {
   "cell_type": "code",
   "execution_count": 320,
   "id": "91a5bb7b",
   "metadata": {},
   "outputs": [
    {
     "data": {
      "text/plain": [
       "(0.8333333333333334, 0.8085106382978723)"
      ]
     },
     "execution_count": 320,
     "metadata": {},
     "output_type": "execute_result"
    }
   ],
   "source": [
    "#для 7 ближайших соседей\n",
    "accuracy_score(fruit_y_test, target2), accuracy_score(fruit_y_train, target2_2)"
   ]
  },
  {
   "cell_type": "code",
   "execution_count": 361,
   "id": "98723cd6",
   "metadata": {},
   "outputs": [],
   "source": [
    "accuracy = []\n",
    "accuracy.append(accuracy_score(fruit_y_test, target1))\n",
    "accuracy.append(accuracy_score(fruit_y_train, target1_2))\n",
    "accuracy.append(accuracy_score(fruit_y_test, target2))\n",
    "accuracy.append(accuracy_score(fruit_y_train, target2_2))\n",
    "def accuracy_score_for_classes(\n",
    "    y_true: np.ndarray, \n",
    "    y_pred: np.ndarray) -> Dict[int, float]:\n",
    "    \"\"\"\n",
    "    Вычисление метрики accuracy для каждого класса\n",
    "    y_true - истинные значения классов\n",
    "    y_pred - предсказанные значения классов\n",
    "    Возвращает словарь: ключ - метка класса, \n",
    "    значение - Accuracy для данного класса\n",
    "    \"\"\"\n",
    "    # Для удобства фильтрации сформируем Pandas DataFrame \n",
    "    d = {'t': y_true, 'p': y_pred}\n",
    "    df = pd.DataFrame(data=d)\n",
    "    # Метки классов\n",
    "    classes = np.unique(y_true)\n",
    "    # Результирующий словарь\n",
    "    res = dict()\n",
    "    # Перебор меток классов\n",
    "    for c in classes:\n",
    "        # отфильтруем данные, которые соответствуют \n",
    "        # текущей метке класса в истинных значениях\n",
    "        temp_data_flt = df[df['t']==c]\n",
    "        # расчет accuracy для заданной метки класса\n",
    "        temp_acc = accuracy_score(\n",
    "            temp_data_flt['t'].values, \n",
    "            temp_data_flt['p'].values)\n",
    "        # сохранение результата в словарь\n",
    "        res[c] = temp_acc\n",
    "    return res\n",
    "\n",
    "def print_accuracy_score_for_classes(\n",
    "    y_true: np.ndarray, \n",
    "    y_pred: np.ndarray):\n",
    "    \"\"\"\n",
    "    Вывод метрики accuracy для каждого класса\n",
    "    \"\"\"\n",
    "    accs = accuracy_score_for_classes(y_true, y_pred)\n",
    "    if len(accs)>0:\n",
    "        print('Метка \\t Accuracy')\n",
    "    for i in accs:\n",
    "        print('{} \\t {}'.format(i, accs[i]))"
   ]
  },
  {
   "cell_type": "code",
   "execution_count": 362,
   "id": "351faa75",
   "metadata": {
    "scrolled": true
   },
   "outputs": [
    {
     "name": "stdout",
     "output_type": "stream",
     "text": [
      "Метка \t Accuracy\n",
      "1 \t 1.0\n",
      "2 \t 1.0\n",
      "3 \t 0.25\n",
      "4 \t 1.0\n"
     ]
    }
   ],
   "source": [
    "#Сравним также Accuracy для разных классов\n",
    "#при К = 3\n",
    "print_accuracy_score_for_classes(fruit_y_test[\"fruit_label\"], target1)"
   ]
  },
  {
   "cell_type": "code",
   "execution_count": 363,
   "id": "cfa055a8",
   "metadata": {},
   "outputs": [
    {
     "name": "stdout",
     "output_type": "stream",
     "text": [
      "Метка \t Accuracy\n",
      "1 \t 1.0\n",
      "2 \t 1.0\n",
      "3 \t 0.5\n",
      "4 \t 1.0\n"
     ]
    }
   ],
   "source": [
    "#при K = 7\n",
    "print_accuracy_score_for_classes(fruit_y_test[\"fruit_label\"], target2)"
   ]
  },
  {
   "cell_type": "markdown",
   "id": "a315318b",
   "metadata": {},
   "source": [
    "##### Confusion matrix, Precision, Recall, F-мера"
   ]
  },
  {
   "cell_type": "code",
   "execution_count": 181,
   "id": "466b9885",
   "metadata": {},
   "outputs": [
    {
     "data": {
      "text/plain": [
       "array([[3, 0, 0, 0],\n",
       "       [0, 1, 0, 0],\n",
       "       [3, 0, 1, 0],\n",
       "       [0, 0, 0, 4]], dtype=int64)"
      ]
     },
     "execution_count": 181,
     "metadata": {},
     "output_type": "execute_result"
    }
   ],
   "source": [
    "confusion_matrix(fruit_y_test, target1, labels=[1, 2, 3, 4])"
   ]
  },
  {
   "cell_type": "code",
   "execution_count": 182,
   "id": "3847b4f7",
   "metadata": {},
   "outputs": [
    {
     "data": {
      "text/plain": [
       "array([[3, 0, 0, 0],\n",
       "       [0, 1, 0, 0],\n",
       "       [2, 0, 2, 0],\n",
       "       [0, 0, 0, 4]], dtype=int64)"
      ]
     },
     "execution_count": 182,
     "metadata": {},
     "output_type": "execute_result"
    }
   ],
   "source": [
    "confusion_matrix(fruit_y_test, target2, labels=[1, 2, 3, 4])"
   ]
  },
  {
   "cell_type": "markdown",
   "id": "eaafc3ff",
   "metadata": {},
   "source": [
    "Как видно из примеров выше при K=7 алгоритм ошибочно определил 2 точки класса 3 были ошибочно определены как точки класса 1\n",
    "Посчитаем Precision, Recall, F-меру для K=3 и K=7"
   ]
  },
  {
   "cell_type": "code",
   "execution_count": 185,
   "id": "0e69f2e9",
   "metadata": {},
   "outputs": [
    {
     "data": {
      "text/plain": [
       "(0.75, 0.75)"
      ]
     },
     "execution_count": 185,
     "metadata": {},
     "output_type": "execute_result"
    }
   ],
   "source": [
    "#K=3\n",
    "precision_score(fruit_y_test, target1, average = 'micro'), recall_score(fruit_y_test, target1, average = 'micro')"
   ]
  },
  {
   "cell_type": "code",
   "execution_count": 186,
   "id": "78ce80e3",
   "metadata": {},
   "outputs": [
    {
     "data": {
      "text/plain": [
       "(0.875, 0.8125)"
      ]
     },
     "execution_count": 186,
     "metadata": {},
     "output_type": "execute_result"
    }
   ],
   "source": [
    "precision_score(fruit_y_test, target1, average = 'macro'), recall_score(fruit_y_test, target1, average = 'macro')"
   ]
  },
  {
   "cell_type": "code",
   "execution_count": 187,
   "id": "76e43181",
   "metadata": {},
   "outputs": [
    {
     "data": {
      "text/plain": [
       "(0.875, 0.75)"
      ]
     },
     "execution_count": 187,
     "metadata": {},
     "output_type": "execute_result"
    }
   ],
   "source": [
    "precision_score(fruit_y_test, target1, average = 'weighted'), recall_score(fruit_y_test, target1, average = 'weighted')"
   ]
  },
  {
   "cell_type": "code",
   "execution_count": 195,
   "id": "1f50f82c",
   "metadata": {},
   "outputs": [
    {
     "data": {
      "text/plain": [
       "(0.8333333333333334, 0.8333333333333334)"
      ]
     },
     "execution_count": 195,
     "metadata": {},
     "output_type": "execute_result"
    }
   ],
   "source": [
    "#K=7\n",
    "precision_score(fruit_y_test, target2, average = 'micro'), recall_score(fruit_y_test, target2, average = 'micro')"
   ]
  },
  {
   "cell_type": "code",
   "execution_count": 196,
   "id": "00acc056",
   "metadata": {},
   "outputs": [
    {
     "data": {
      "text/plain": [
       "(0.9, 0.875)"
      ]
     },
     "execution_count": 196,
     "metadata": {},
     "output_type": "execute_result"
    }
   ],
   "source": [
    "precision_score(fruit_y_test, target2, average = 'macro'), recall_score(fruit_y_test, target2, average = 'macro')"
   ]
  },
  {
   "cell_type": "code",
   "execution_count": 197,
   "id": "23ae0c7c",
   "metadata": {
    "scrolled": true
   },
   "outputs": [
    {
     "data": {
      "text/plain": [
       "(0.9, 0.8333333333333334)"
      ]
     },
     "execution_count": 197,
     "metadata": {},
     "output_type": "execute_result"
    }
   ],
   "source": [
    "precision_score(fruit_y_test, target2, average = 'weighted'), recall_score(fruit_y_test, target2, average = 'weighted')b"
   ]
  },
  {
   "cell_type": "code",
   "execution_count": 201,
   "id": "4867b4f2",
   "metadata": {},
   "outputs": [
    {
     "data": {
      "text/plain": [
       "(0.7166666666666667, 0.8263888888888888)"
      ]
     },
     "execution_count": 201,
     "metadata": {},
     "output_type": "execute_result"
    }
   ],
   "source": [
    "#f1_score для K=3 и K=7\n",
    "f1_score(fruit_y_test, target1, average = 'weighted'), f1_score(fruit_y_test, target2, average = 'weighted')"
   ]
  },
  {
   "cell_type": "code",
   "execution_count": 212,
   "id": "2f6aff49",
   "metadata": {},
   "outputs": [
    {
     "data": {
      "text/plain": [
       "{'apple': {'precision': 0.5,\n",
       "  'recall': 1.0,\n",
       "  'f1-score': 0.6666666666666666,\n",
       "  'support': 3},\n",
       " 'mandarin': {'precision': 1.0, 'recall': 1.0, 'f1-score': 1.0, 'support': 1},\n",
       " 'orange': {'precision': 1.0, 'recall': 0.25, 'f1-score': 0.4, 'support': 4},\n",
       " 'lemon': {'precision': 1.0, 'recall': 1.0, 'f1-score': 1.0, 'support': 4},\n",
       " 'accuracy': 0.75,\n",
       " 'macro avg': {'precision': 0.875,\n",
       "  'recall': 0.8125,\n",
       "  'f1-score': 0.7666666666666666,\n",
       "  'support': 12},\n",
       " 'weighted avg': {'precision': 0.875,\n",
       "  'recall': 0.75,\n",
       "  'f1-score': 0.7166666666666667,\n",
       "  'support': 12}}"
      ]
     },
     "execution_count": 212,
     "metadata": {},
     "output_type": "execute_result"
    }
   ],
   "source": [
    "classification_report(fruit_y_test, target1, target_names = [\"apple\", \"mandarin\", \"orange\", \"lemon\"], output_dict = True)"
   ]
  },
  {
   "cell_type": "code",
   "execution_count": 213,
   "id": "66bf3ecb",
   "metadata": {
    "scrolled": true
   },
   "outputs": [
    {
     "data": {
      "text/plain": [
       "{'apple': {'precision': 0.6,\n",
       "  'recall': 1.0,\n",
       "  'f1-score': 0.7499999999999999,\n",
       "  'support': 3},\n",
       " 'mandarin': {'precision': 1.0, 'recall': 1.0, 'f1-score': 1.0, 'support': 1},\n",
       " 'orange': {'precision': 1.0,\n",
       "  'recall': 0.5,\n",
       "  'f1-score': 0.6666666666666666,\n",
       "  'support': 4},\n",
       " 'lemon': {'precision': 1.0, 'recall': 1.0, 'f1-score': 1.0, 'support': 4},\n",
       " 'accuracy': 0.8333333333333334,\n",
       " 'macro avg': {'precision': 0.9,\n",
       "  'recall': 0.875,\n",
       "  'f1-score': 0.8541666666666666,\n",
       "  'support': 12},\n",
       " 'weighted avg': {'precision': 0.9,\n",
       "  'recall': 0.8333333333333334,\n",
       "  'f1-score': 0.8263888888888888,\n",
       "  'support': 12}}"
      ]
     },
     "execution_count": 213,
     "metadata": {},
     "output_type": "execute_result"
    }
   ],
   "source": [
    "classification_report(fruit_y_test, target2, target_names = [\"apple\", \"mandarin\", \"orange\", \"lemon\"], output_dict = True)"
   ]
  },
  {
   "cell_type": "markdown",
   "id": "07f272a0",
   "metadata": {},
   "source": [
    "## Подбор гиперпараметра с помощью кросс-валидации\n",
    "Найдём наилучший гиперпараметр используя текущую перестановку"
   ]
  },
  {
   "cell_type": "markdown",
   "id": "cb872528",
   "metadata": {},
   "source": [
    "##### KFold()"
   ]
  },
  {
   "cell_type": "code",
   "execution_count": 333,
   "id": "3577c3e3",
   "metadata": {
    "scrolled": true
   },
   "outputs": [
    {
     "data": {
      "text/plain": [
       "GridSearchCV(cv=KFold(n_splits=10, random_state=None, shuffle=False),\n",
       "             estimator=KNeighborsClassifier(),\n",
       "             param_grid=[{'n_neighbors': array([ 1,  2,  3,  4,  5,  6,  7,  8,  9, 10, 11, 12, 13, 14, 15, 16, 17,\n",
       "       18, 19])}],\n",
       "             scoring='accuracy')"
      ]
     },
     "execution_count": 333,
     "metadata": {},
     "output_type": "execute_result"
    }
   ],
   "source": [
    "kf = KFold(n_splits=10)\n",
    "r = np.array(range(1,20))\n",
    "params = [{\"n_neighbors\": r}]\n",
    "gs = GridSearchCV(KNeighborsClassifier(), params, cv=kf, scoring=\"accuracy\")\n",
    "gs.fit(fruit_x_train[[\"width\",\"height\"]], fruit_y_train.values.ravel())"
   ]
  },
  {
   "cell_type": "code",
   "execution_count": 334,
   "id": "bea6c68e",
   "metadata": {},
   "outputs": [
    {
     "data": {
      "text/plain": [
       "KNeighborsClassifier(n_neighbors=3)"
      ]
     },
     "execution_count": 334,
     "metadata": {},
     "output_type": "execute_result"
    }
   ],
   "source": [
    "gs.best_estimator_"
   ]
  },
  {
   "cell_type": "code",
   "execution_count": 335,
   "id": "4f1f910a",
   "metadata": {},
   "outputs": [
    {
     "data": {
      "text/plain": [
       "0.8300000000000001"
      ]
     },
     "execution_count": 335,
     "metadata": {},
     "output_type": "execute_result"
    }
   ],
   "source": [
    "gs.best_score_"
   ]
  },
  {
   "cell_type": "code",
   "execution_count": 336,
   "id": "0d4bea2e",
   "metadata": {},
   "outputs": [
    {
     "data": {
      "text/plain": [
       "{'n_neighbors': 3}"
      ]
     },
     "execution_count": 336,
     "metadata": {},
     "output_type": "execute_result"
    }
   ],
   "source": [
    "gs.best_params_"
   ]
  },
  {
   "cell_type": "code",
   "execution_count": 337,
   "id": "981aa5ec",
   "metadata": {},
   "outputs": [],
   "source": [
    "#gs.cv_results_"
   ]
  },
  {
   "cell_type": "code",
   "execution_count": 338,
   "id": "97db74e8",
   "metadata": {},
   "outputs": [
    {
     "data": {
      "text/plain": [
       "Text(0.5, 1.0, 'Гиперпараметр при KFold()')"
      ]
     },
     "execution_count": 338,
     "metadata": {},
     "output_type": "execute_result"
    },
    {
     "data": {
      "image/png": "[encoded data removed]",
      "text/plain": [
       "<Figure size 432x288 with 1 Axes>"
      ]
     },
     "metadata": {
      "needs_background": "light"
     },
     "output_type": "display_data"
    }
   ],
   "source": [
    "plt.plot(r, gs.cv_results_['mean_test_score'])\n",
    "plt.title(\"Гиперпараметр при KFold()\")"
   ]
  },
  {
   "cell_type": "code",
   "execution_count": 340,
   "id": "d260fb57",
   "metadata": {},
   "outputs": [
    {
     "data": {
      "text/plain": [
       "(array([4, 1, 1, 4, 3, 1, 1, 1, 1, 4, 4, 2], dtype=int64),\n",
       " array([4, 1, 3, 4, 3, 3, 3, 1, 1, 4, 4, 2], dtype=int64),\n",
       " array([3, 3, 3, 1, 4, 3, 4, 3, 3, 4, 4, 4, 4, 3, 1, 3, 4, 3, 1, 4, 3, 3,\n",
       "        2, 1, 3, 1, 4, 3, 1, 4, 1, 3, 2, 4, 2, 4, 1, 1, 1, 1, 2, 3, 1, 1,\n",
       "        1, 4, 3], dtype=int64),\n",
       " array([3, 3, 3, 1, 4, 3, 4, 3, 3, 4, 3, 4, 4, 3, 1, 1, 4, 3, 1, 4, 3, 1,\n",
       "        2, 1, 3, 3, 4, 3, 1, 4, 1, 3, 2, 4, 2, 4, 1, 1, 1, 1, 2, 1, 1, 1,\n",
       "        1, 4, 3], dtype=int64))"
      ]
     },
     "execution_count": 340,
     "metadata": {},
     "output_type": "execute_result"
    }
   ],
   "source": [
    "#Предсказание резульатов на тестовой и обучающей выборках\n",
    "gs.best_estimator_.fit(fruit_x_train[[\"width\",\"height\"]], fruit_y_train.values.ravel())\n",
    "predGs1 = gs.best_estimator_.predict(fruit_x_test[[\"width\",\"height\"]])\n",
    "predGs2 = gs.best_estimator_.predict(fruit_x_train[[\"width\",\"height\"]])\n",
    "predGs1, fruit_y_test.values.ravel(),predGs2, fruit_y_train.values.ravel()"
   ]
  },
  {
   "cell_type": "code",
   "execution_count": 369,
   "id": "5f4ad09f",
   "metadata": {},
   "outputs": [
    {
     "data": {
      "text/plain": [
       "(0.75, 0.8936170212765957)"
      ]
     },
     "execution_count": 369,
     "metadata": {},
     "output_type": "execute_result"
    }
   ],
   "source": [
    "#Оценка качества с помощью Accuracy\n",
    "accuracy.append(accuracy_score(fruit_y_test, predGs1))\n",
    "accuracy.append(accuracy_score(fruit_y_train, predGs2))\n",
    "accuracy[4], accuracy[5]"
   ]
  },
  {
   "cell_type": "markdown",
   "id": "9a34468b",
   "metadata": {},
   "source": [
    "##### StratifiedShuffleSplit()"
   ]
  },
  {
   "cell_type": "code",
   "execution_count": 342,
   "id": "bdd2cc56",
   "metadata": {
    "scrolled": true
   },
   "outputs": [
    {
     "data": {
      "text/plain": [
       "GridSearchCV(cv=StratifiedShuffleSplit(n_splits=10, random_state=None, test_size=0.2,\n",
       "            train_size=None),\n",
       "             estimator=KNeighborsClassifier(),\n",
       "             param_grid=[{'n_neighbors': array([ 1,  2,  3,  4,  5,  6,  7,  8,  9, 10, 11, 12, 13, 14, 15, 16, 17,\n",
       "       18, 19])}],\n",
       "             scoring='accuracy')"
      ]
     },
     "execution_count": 342,
     "metadata": {},
     "output_type": "execute_result"
    }
   ],
   "source": [
    "kf = StratifiedShuffleSplit(n_splits=10, test_size = 0.2)\n",
    "r = np.array(range(1,20))\n",
    "params = [{\"n_neighbors\": r}]\n",
    "gs2= GridSearchCV(KNeighborsClassifier(), params, cv=kf, scoring=\"accuracy\")\n",
    "gs2.fit(fruit_x_train[[\"width\",\"height\"]], fruit_y_train.values.ravel())"
   ]
  },
  {
   "cell_type": "code",
   "execution_count": 343,
   "id": "e5752d83",
   "metadata": {},
   "outputs": [
    {
     "data": {
      "text/plain": [
       "KNeighborsClassifier(n_neighbors=3)"
      ]
     },
     "execution_count": 343,
     "metadata": {},
     "output_type": "execute_result"
    }
   ],
   "source": [
    "gs2.best_estimator_"
   ]
  },
  {
   "cell_type": "code",
   "execution_count": 345,
   "id": "d72cad00",
   "metadata": {
    "scrolled": true
   },
   "outputs": [
    {
     "data": {
      "text/plain": [
       "0.85"
      ]
     },
     "execution_count": 345,
     "metadata": {},
     "output_type": "execute_result"
    }
   ],
   "source": [
    "gs2.best_score_"
   ]
  },
  {
   "cell_type": "code",
   "execution_count": 346,
   "id": "1a56ea11",
   "metadata": {},
   "outputs": [
    {
     "data": {
      "text/plain": [
       "{'n_neighbors': 3}"
      ]
     },
     "execution_count": 346,
     "metadata": {},
     "output_type": "execute_result"
    }
   ],
   "source": [
    "gs2.best_params_"
   ]
  },
  {
   "cell_type": "code",
   "execution_count": 347,
   "id": "6da222be",
   "metadata": {},
   "outputs": [],
   "source": [
    "#gs2.cv_results_"
   ]
  },
  {
   "cell_type": "code",
   "execution_count": 348,
   "id": "ee04e376",
   "metadata": {},
   "outputs": [
    {
     "data": {
      "text/plain": [
       "Text(0.5, 1.0, 'Гиперпараметр при StratifiedShuffleSplit()')"
      ]
     },
     "execution_count": 348,
     "metadata": {},
     "output_type": "execute_result"
    },
    {
     "data": {
      "image/png": "[encoded data removed]",
      "text/plain": [
       "<Figure size 432x288 with 1 Axes>"
      ]
     },
     "metadata": {
      "needs_background": "light"
     },
     "output_type": "display_data"
    }
   ],
   "source": [
    "plt.plot(r, gs2.cv_results_['mean_test_score'])\n",
    "plt.title(\"Гиперпараметр при StratifiedShuffleSplit()\")"
   ]
  },
  {
   "cell_type": "code",
   "execution_count": 349,
   "id": "3e150c46",
   "metadata": {},
   "outputs": [
    {
     "data": {
      "text/plain": [
       "(array([4, 1, 1, 4, 3, 1, 1, 1, 1, 4, 4, 2], dtype=int64),\n",
       " array([4, 1, 3, 4, 3, 3, 3, 1, 1, 4, 4, 2], dtype=int64),\n",
       " array([3, 3, 3, 1, 4, 3, 4, 3, 3, 4, 4, 4, 4, 3, 1, 3, 4, 3, 1, 4, 3, 3,\n",
       "        2, 1, 3, 1, 4, 3, 1, 4, 1, 3, 2, 4, 2, 4, 1, 1, 1, 1, 2, 3, 1, 1,\n",
       "        1, 4, 3], dtype=int64),\n",
       " array([3, 3, 3, 1, 4, 3, 4, 3, 3, 4, 3, 4, 4, 3, 1, 1, 4, 3, 1, 4, 3, 1,\n",
       "        2, 1, 3, 3, 4, 3, 1, 4, 1, 3, 2, 4, 2, 4, 1, 1, 1, 1, 2, 1, 1, 1,\n",
       "        1, 4, 3], dtype=int64))"
      ]
     },
     "execution_count": 349,
     "metadata": {},
     "output_type": "execute_result"
    }
   ],
   "source": [
    "#Предсказание резульатов на тестовой и обучающей выборках\n",
    "gs2.best_estimator_.fit(fruit_x_train[[\"width\",\"height\"]], fruit_y_train.values.ravel())\n",
    "predGs1 = gs2.best_estimator_.predict(fruit_x_test[[\"width\",\"height\"]])\n",
    "predGs2 = gs2.best_estimator_.predict(fruit_x_train[[\"width\",\"height\"]])\n",
    "predGs1, fruit_y_test.values.ravel(),predGs2, fruit_y_train.values.ravel()"
   ]
  },
  {
   "cell_type": "code",
   "execution_count": 370,
   "id": "db2bfe4c",
   "metadata": {},
   "outputs": [
    {
     "data": {
      "text/plain": [
       "(0.75, 0.8936170212765957)"
      ]
     },
     "execution_count": 370,
     "metadata": {},
     "output_type": "execute_result"
    }
   ],
   "source": [
    "#Оценка качества с помощью Accuracy\n",
    "accuracy.append(accuracy_score(fruit_y_test, predGs1))\n",
    "accuracy.append(accuracy_score(fruit_y_train, predGs2))\n",
    "accuracy[6], accuracy[7]"
   ]
  },
  {
   "cell_type": "markdown",
   "id": "9e6403e2",
   "metadata": {},
   "source": [
    "### Сравним метрики качества исходной и оптимальных моделей"
   ]
  },
  {
   "cell_type": "code",
   "execution_count": 391,
   "id": "fc8c8121",
   "metadata": {},
   "outputs": [
    {
     "data": {
      "text/plain": [
       "<AxesSubplot:title={'center':'Сравнение предсказания всех моделей'}, xlabel='Marks', ylabel='Accuracy'>"
      ]
     },
     "execution_count": 391,
     "metadata": {},
     "output_type": "execute_result"
    },
    {
     "data": {
      "image/png": "[encoded data removed]",
      "text/plain": [
       "<Figure size 432x432 with 1 Axes>"
      ]
     },
     "metadata": {
      "needs_background": "light"
     },
     "output_type": "display_data"
    }
   ],
   "source": [
    "#По четным test, по нечетным train\n",
    "#Исходная модель для K=3 - это 0,1\n",
    "#Исходная модель для K=7 - это 2,3\n",
    "#Модели, найденные с помощью KFold и StratifiedShuffleSplit 4,5 и 6,7 соответственно. K в обоих случаях получился = 3\n",
    "X = [i for i in range(len(accuracy))]\n",
    "dataframe = pd.DataFrame({\"Marks\": X, \"Accuracy\": accuracy})\n",
    "fig, ax = plt.subplots(figsize=(6,6)) \n",
    "ax.title.set_text(\"Сравнение предсказания всех моделей\")\n",
    "sns.barplot(data=dataframe, y=\"Accuracy\", x=\"Marks\", color=\"#8172fb\")"
   ]
  },
  {
   "cell_type": "code",
   "execution_count": null,
   "id": "11e28acc",
   "metadata": {},
   "outputs": [],
   "source": []
  }
 ],
 "metadata": {
  "kernelspec": {
   "display_name": "Python 3 (ipykernel)",
   "language": "python",
   "name": "python3"
  },
  "language_info": {
   "codemirror_mode": {
    "name": "ipython",
    "version": 3
   },
   "file_extension": ".py",
   "mimetype": "text/x-python",
   "name": "python",
   "nbconvert_exporter": "python",
   "pygments_lexer": "ipython3",
   "version": "3.9.7"
  }
 },
 "nbformat": 4,
 "nbformat_minor": 5
}
