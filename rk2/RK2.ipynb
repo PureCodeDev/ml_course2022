{
 "cells": [
  {
   "cell_type": "markdown",
   "id": "2941cbb8",
   "metadata": {},
   "source": [
    "# Рубежный контроль №2"
   ]
  },
  {
   "cell_type": "markdown",
   "id": "a024f558",
   "metadata": {},
   "source": [
    "### Бахман Александр ИУ5-65Б"
   ]
  },
  {
   "cell_type": "markdown",
   "id": "c7728846",
   "metadata": {},
   "source": [
    "## Задание. \n",
    "Для заданного набора данных (по Вашему варианту) постройте модели классификации или регрессии (в зависимости от конкретной задачи, рассматриваемой в наборе данных). Для построения моделей используйте методы 1 и 2 (по варианту для Вашей группы). Оцените качество моделей на основе подходящих метрик качества (не менее двух метрик). Какие метрики качества Вы использовали и почему? Какие выводы Вы можете сделать о качестве построенных моделей? Для построения моделей необходимо выполнить требуемую предобработку данных: заполнение пропусков, кодирование категориальных признаков, и т.д."
   ]
  },
  {
   "cell_type": "markdown",
   "id": "92027067",
   "metadata": {},
   "source": [
    "- Метод №1: Метод опорных векторов\n",
    "- Метод №2: Градиентный бустинг"
   ]
  },
  {
   "cell_type": "code",
   "execution_count": 53,
   "id": "3770c0cb",
   "metadata": {},
   "outputs": [],
   "source": [
    "import pandas as pd\n",
    "from sklearn.preprocessing import LabelEncoder\n",
    "import numpy as np\n",
    "import seaborn as sns\n",
    "import matplotlib.pyplot as plt\n",
    "from sklearn.model_selection import train_test_split\n",
    "from sklearn.datasets import load_iris\n",
    "from sklearn.model_selection import cross_val_score, cross_validate\n",
    "from sklearn.svm import SVC, NuSVC, LinearSVC, OneClassSVM, SVR, NuSVR, LinearSVR\n",
    "from sklearn.metrics import mean_absolute_error, mean_squared_error, mean_squared_log_error, median_absolute_error, r2_score\n",
    "import sklearn.metrics\n",
    "from sklearn.ensemble import GradientBoostingClassifier, GradientBoostingRegressor"
   ]
  },
  {
   "cell_type": "code",
   "execution_count": 14,
   "id": "3d1c3c65",
   "metadata": {},
   "outputs": [
    {
     "data": {
      "text/html": [
       "<div>\n",
       "<style scoped>\n",
       "    .dataframe tbody tr th:only-of-type {\n",
       "        vertical-align: middle;\n",
       "    }\n",
       "\n",
       "    .dataframe tbody tr th {\n",
       "        vertical-align: top;\n",
       "    }\n",
       "\n",
       "    .dataframe thead th {\n",
       "        text-align: right;\n",
       "    }\n",
       "</style>\n",
       "<table border=\"1\" class=\"dataframe\">\n",
       "  <thead>\n",
       "    <tr style=\"text-align: right;\">\n",
       "      <th></th>\n",
       "      <th>sepal length (cm)</th>\n",
       "      <th>sepal width (cm)</th>\n",
       "      <th>petal length (cm)</th>\n",
       "      <th>petal width (cm)</th>\n",
       "      <th>target</th>\n",
       "    </tr>\n",
       "  </thead>\n",
       "  <tbody>\n",
       "    <tr>\n",
       "      <th>0</th>\n",
       "      <td>5.1</td>\n",
       "      <td>3.5</td>\n",
       "      <td>1.4</td>\n",
       "      <td>0.2</td>\n",
       "      <td>0</td>\n",
       "    </tr>\n",
       "    <tr>\n",
       "      <th>1</th>\n",
       "      <td>4.9</td>\n",
       "      <td>3.0</td>\n",
       "      <td>1.4</td>\n",
       "      <td>0.2</td>\n",
       "      <td>0</td>\n",
       "    </tr>\n",
       "    <tr>\n",
       "      <th>2</th>\n",
       "      <td>4.7</td>\n",
       "      <td>3.2</td>\n",
       "      <td>1.3</td>\n",
       "      <td>0.2</td>\n",
       "      <td>0</td>\n",
       "    </tr>\n",
       "    <tr>\n",
       "      <th>3</th>\n",
       "      <td>4.6</td>\n",
       "      <td>3.1</td>\n",
       "      <td>1.5</td>\n",
       "      <td>0.2</td>\n",
       "      <td>0</td>\n",
       "    </tr>\n",
       "    <tr>\n",
       "      <th>4</th>\n",
       "      <td>5.0</td>\n",
       "      <td>3.6</td>\n",
       "      <td>1.4</td>\n",
       "      <td>0.2</td>\n",
       "      <td>0</td>\n",
       "    </tr>\n",
       "  </tbody>\n",
       "</table>\n",
       "</div>"
      ],
      "text/plain": [
       "   sepal length (cm)  sepal width (cm)  petal length (cm)  petal width (cm)  \\\n",
       "0                5.1               3.5                1.4               0.2   \n",
       "1                4.9               3.0                1.4               0.2   \n",
       "2                4.7               3.2                1.3               0.2   \n",
       "3                4.6               3.1                1.5               0.2   \n",
       "4                5.0               3.6                1.4               0.2   \n",
       "\n",
       "   target  \n",
       "0       0  \n",
       "1       0  \n",
       "2       0  \n",
       "3       0  \n",
       "4       0  "
      ]
     },
     "execution_count": 14,
     "metadata": {},
     "output_type": "execute_result"
    }
   ],
   "source": [
    "#Загрузка датасета Ирисов Фишера\n",
    "#и преобразование его в Dataframe\n",
    "iris = load_iris()\n",
    "data = pd.DataFrame(iris.data,columns=iris.feature_names)\n",
    "data['target'] = pd.Series(iris.target)#создадим столбец целевой признака\n",
    "data.head()"
   ]
  },
  {
   "cell_type": "code",
   "execution_count": 15,
   "id": "28d9a091",
   "metadata": {},
   "outputs": [
    {
     "data": {
      "text/plain": [
       "sepal length (cm)    float64\n",
       "sepal width (cm)     float64\n",
       "petal length (cm)    float64\n",
       "petal width (cm)     float64\n",
       "target                 int32\n",
       "dtype: object"
      ]
     },
     "execution_count": 15,
     "metadata": {},
     "output_type": "execute_result"
    }
   ],
   "source": [
    "#Проверка типов данных\n",
    "data.dtypes"
   ]
  },
  {
   "cell_type": "code",
   "execution_count": 16,
   "id": "0074024f",
   "metadata": {},
   "outputs": [
    {
     "data": {
      "text/plain": [
       "(150, 5)"
      ]
     },
     "execution_count": 16,
     "metadata": {},
     "output_type": "execute_result"
    }
   ],
   "source": [
    "#Размер датасета\n",
    "data.shape"
   ]
  },
  {
   "cell_type": "code",
   "execution_count": 17,
   "id": "32430af0",
   "metadata": {},
   "outputs": [
    {
     "data": {
      "text/plain": [
       "sepal length (cm)    0\n",
       "sepal width (cm)     0\n",
       "petal length (cm)    0\n",
       "petal width (cm)     0\n",
       "target               0\n",
       "dtype: int64"
      ]
     },
     "execution_count": 17,
     "metadata": {},
     "output_type": "execute_result"
    }
   ],
   "source": [
    "#Проверка пустых значений\n",
    "data.isnull().sum()"
   ]
  },
  {
   "cell_type": "code",
   "execution_count": 18,
   "id": "45f2585e",
   "metadata": {},
   "outputs": [
    {
     "data": {
      "text/plain": [
       "<AxesSubplot:>"
      ]
     },
     "execution_count": 18,
     "metadata": {},
     "output_type": "execute_result"
    },
    {
     "data": {
      "image/png": "[encoded data removed]",
      "text/plain": [
       "<Figure size 1080x648 with 2 Axes>"
      ]
     },
     "metadata": {
      "needs_background": "light"
     },
     "output_type": "display_data"
    }
   ],
   "source": [
    "#Построение корреляционной матрицы\n",
    "fig, ax = plt.subplots(figsize=(15,9))\n",
    "sns.heatmap(data.corr(method=\"pearson\"), ax=ax,annot=True, fmt=\".2f\", center=0)"
   ]
  },
  {
   "cell_type": "markdown",
   "id": "c46f4456",
   "metadata": {},
   "source": [
    "В качестве целевого признака возьмём столбец \"target\""
   ]
  },
  {
   "cell_type": "code",
   "execution_count": 20,
   "id": "a382945f",
   "metadata": {},
   "outputs": [],
   "source": [
    "#Разделение выборки на обучающую и тестовую\n",
    "xArray = data.drop(\"target\", axis=1)\n",
    "yArray = data[\"target\"]\n",
    "trainX, testX, trainY, testY = train_test_split(xArray, yArray, test_size=0.2, random_state=1)"
   ]
  },
  {
   "cell_type": "markdown",
   "id": "66566a1f",
   "metadata": {},
   "source": [
    "### Метод опорных векторов\n",
    "\n",
    "Будем решать задачу регресии"
   ]
  },
  {
   "cell_type": "code",
   "execution_count": 68,
   "id": "b7fdbeff",
   "metadata": {},
   "outputs": [
    {
     "data": {
      "text/plain": [
       "((120, 4), (30, 4))"
      ]
     },
     "execution_count": 68,
     "metadata": {},
     "output_type": "execute_result"
    }
   ],
   "source": [
    "trainX.shape, testX.shape"
   ]
  },
  {
   "cell_type": "code",
   "execution_count": 69,
   "id": "dc360596",
   "metadata": {
    "scrolled": false
   },
   "outputs": [
    {
     "data": {
      "text/plain": [
       "SVR()"
      ]
     },
     "execution_count": 69,
     "metadata": {},
     "output_type": "execute_result"
    }
   ],
   "source": [
    "svr = SVR()\n",
    "svr.fit(trainX, trainY)"
   ]
  },
  {
   "cell_type": "code",
   "execution_count": 70,
   "id": "e4b17f49",
   "metadata": {},
   "outputs": [],
   "source": [
    "svr_pred = svr.predict(testX)"
   ]
  },
  {
   "cell_type": "markdown",
   "id": "62a3831e",
   "metadata": {},
   "source": [
    "Для оценки качества будем использовать:\n",
    "- коэффициента детерминации, чтобы узнать насколько модель близка к истинной\n",
    "- корень из средней квадратичной ошибки, чтобы выделить большие ошибки в предсказании модели"
   ]
  },
  {
   "cell_type": "code",
   "execution_count": 71,
   "id": "b3a2f14b",
   "metadata": {},
   "outputs": [],
   "source": [
    "R2 = r2_score(testY, svr_pred)\n",
    "RMSE = mean_squared_error(testY, svr_pred, squared=True)"
   ]
  },
  {
   "cell_type": "code",
   "execution_count": 72,
   "id": "2b83efc6",
   "metadata": {},
   "outputs": [
    {
     "name": "stdout",
     "output_type": "stream",
     "text": [
      "Оценка качества модели с помощью коэффициента детерминации: 0.9116297686100936\n",
      "Корень из средней квадратичной ошибки: 0.04762173580456064\n"
     ]
    }
   ],
   "source": [
    "print(\"Оценка качества модели с помощью коэффициента детерминации: {}\".format(R2))\n",
    "print(\"Корень из средней квадратичной ошибки: {}\".format(RMSE))"
   ]
  },
  {
   "cell_type": "markdown",
   "id": "1a3dc5c1",
   "metadata": {},
   "source": [
    "С помощью используемых метрик, можем сделать вывод, что качество модели высокое, т.к. коэф. детерминизации почти равен 1, а RMSE почти равно 0. Это подтверждает и то, что целевой признак сильно коррелирует с остальными признаками.\n",
    "Проверим это и с помощью кросс валидации"
   ]
  },
  {
   "cell_type": "code",
   "execution_count": 73,
   "id": "bf3156fd",
   "metadata": {},
   "outputs": [
    {
     "data": {
      "text/plain": [
       "{'fit_time': array([0.00299358, 0.00199461, 0.00299263]),\n",
       " 'score_time': array([0.00298929, 0.00199533, 0.00199389]),\n",
       " 'test_RMSE': array([-0.17138313, -0.19616441, -0.22509426]),\n",
       " 'train_RMSE': array([-0.19252744, -0.19001615, -0.17624036]),\n",
       " 'test_R2': array([0.96054116, 0.94079927, 0.92174915]),\n",
       " 'train_R2': array([0.94291924, 0.94904536, 0.95593255])}"
      ]
     },
     "execution_count": 73,
     "metadata": {},
     "output_type": "execute_result"
    }
   ],
   "source": [
    "scoring = {'RMSE': 'neg_root_mean_squared_error', \n",
    "           'R2': 'r2'}\n",
    "scores = cross_validate(SVR(), \n",
    "                        trainX, trainY, scoring=scoring, \n",
    "                        cv=3, return_train_score=True)\n",
    "scores"
   ]
  },
  {
   "cell_type": "code",
   "execution_count": 74,
   "id": "cd72ab02",
   "metadata": {},
   "outputs": [
    {
     "data": {
      "text/plain": [
       "(-0.9492990518175067,\n",
       " -0.9410298566249193,\n",
       " 0.18626132031298592,\n",
       " 0.19754726803766423)"
      ]
     },
     "execution_count": 74,
     "metadata": {},
     "output_type": "execute_result"
    }
   ],
   "source": [
    "-np.mean(scores['train_R2']), -np.mean(scores['test_R2']), \\\n",
    "-np.mean(scores['train_RMSE']), -np.mean(scores['test_RMSE'])"
   ]
  },
  {
   "cell_type": "markdown",
   "id": "4884c902",
   "metadata": {},
   "source": [
    "Как мы можем видеть, значения метрик аналогичны"
   ]
  },
  {
   "cell_type": "markdown",
   "id": "b3fbce4d",
   "metadata": {},
   "source": [
    "### Градиентный бустинг"
   ]
  },
  {
   "cell_type": "code",
   "execution_count": 54,
   "id": "f44e5a78",
   "metadata": {},
   "outputs": [
    {
     "data": {
      "text/plain": [
       "GradientBoostingRegressor(random_state=1)"
      ]
     },
     "execution_count": 54,
     "metadata": {},
     "output_type": "execute_result"
    }
   ],
   "source": [
    "GB = GradientBoostingRegressor(random_state=1)\n",
    "GB.fit(trainX, trainY)"
   ]
  },
  {
   "cell_type": "code",
   "execution_count": 55,
   "id": "3ef19edf",
   "metadata": {},
   "outputs": [],
   "source": [
    "R2 = r2_score(testY, GB.predict(testX))"
   ]
  },
  {
   "cell_type": "code",
   "execution_count": 56,
   "id": "adcff0f0",
   "metadata": {},
   "outputs": [],
   "source": [
    "RMSE = mean_squared_error(testY, GB.predict(testX), squared=True)"
   ]
  },
  {
   "cell_type": "code",
   "execution_count": 57,
   "id": "365dd2b3",
   "metadata": {},
   "outputs": [
    {
     "name": "stdout",
     "output_type": "stream",
     "text": [
      "Оценка качества модели с помощью коэффициента детерминации: 0.9326836826396206\n",
      "Корень из средней квадратичной ошибки: 0.03627601546642667\n"
     ]
    }
   ],
   "source": [
    "print(\"Оценка качества модели с помощью коэффициента детерминации: {}\".format(R2))\n",
    "print(\"Корень из средней квадратичной ошибки: {}\".format(RMSE))"
   ]
  },
  {
   "cell_type": "markdown",
   "id": "ba40f5be",
   "metadata": {},
   "source": [
    "В данном случае, можем увидеть, что ансамблевая модель градиентного бустинга предсказывает значения даже чуть с большей точностью. Проверим это также с помощью кросс валидации."
   ]
  },
  {
   "cell_type": "code",
   "execution_count": 58,
   "id": "2d67bbd6",
   "metadata": {},
   "outputs": [
    {
     "data": {
      "text/plain": [
       "{'fit_time': array([0.03889704, 0.02492833, 0.01300812]),\n",
       " 'score_time': array([0.00298834, 0.0009985 , 0.        ]),\n",
       " 'test_RMSE': array([-0.1815028 , -0.19534776, -0.31343478]),\n",
       " 'train_RMSE': array([-1.30287607e-02, -8.34934838e-03, -9.16276190e-05]),\n",
       " 'test_R2': array([0.95574372, 0.94129116, 0.84827589]),\n",
       " 'train_R2': array([0.9997386 , 0.99990162, 0.99999999])}"
      ]
     },
     "execution_count": 58,
     "metadata": {},
     "output_type": "execute_result"
    }
   ],
   "source": [
    "scoring = {'RMSE': 'neg_root_mean_squared_error', \n",
    "           'R2': 'r2'}\n",
    "scores = cross_validate(GradientBoostingRegressor(), \n",
    "                        trainX, trainY, scoring=scoring, \n",
    "                        cv=3, return_train_score=True)\n",
    "scores"
   ]
  },
  {
   "cell_type": "code",
   "execution_count": 59,
   "id": "f27406f7",
   "metadata": {
    "scrolled": true
   },
   "outputs": [
    {
     "data": {
      "text/plain": [
       "(-0.9998800682685892,\n",
       " -0.9151035885627822,\n",
       " 0.007156578899919144,\n",
       " 0.23009511581480857)"
      ]
     },
     "execution_count": 59,
     "metadata": {},
     "output_type": "execute_result"
    }
   ],
   "source": [
    "-np.mean(scores['train_R2']), -np.mean(scores['test_R2']), \\\n",
    "-np.mean(scores['train_RMSE']), -np.mean(scores['test_RMSE'])"
   ]
  },
  {
   "cell_type": "code",
   "execution_count": 60,
   "id": "ff543d25",
   "metadata": {},
   "outputs": [],
   "source": [
    "from operator import itemgetter\n",
    "\n",
    "def draw_feature_importances(tree_model, X_dataset, figsize=(10,5)):\n",
    "    \"\"\"\n",
    "    Вывод важности признаков в виде графика\n",
    "    \"\"\"\n",
    "    # Сортировка значений важности признаков по убыванию\n",
    "    list_to_sort = list(zip(X_dataset.columns.values, tree_model.feature_importances_))\n",
    "    sorted_list = sorted(list_to_sort, key=itemgetter(1), reverse = True)\n",
    "    # Названия признаков\n",
    "    labels = [x for x,_ in sorted_list]\n",
    "    # Важности признаков\n",
    "    data = [x for _,x in sorted_list]\n",
    "    # Вывод графика\n",
    "    fig, ax = plt.subplots(figsize=figsize)\n",
    "    ind = np.arange(len(labels))\n",
    "    plt.bar(ind, data)\n",
    "    plt.xticks(ind, labels, rotation='vertical')\n",
    "    # Вывод значений\n",
    "    for a,b in zip(ind, data):\n",
    "        plt.text(a-0.05, b+0.01, str(round(b,3)))\n",
    "    plt.show()\n",
    "    return labels, data"
   ]
  },
  {
   "cell_type": "code",
   "execution_count": 62,
   "id": "b9384bf5",
   "metadata": {},
   "outputs": [
    {
     "data": {
      "image/png": "[encoded data removed]",
      "text/plain": [
       "<Figure size 720x360 with 1 Axes>"
      ]
     },
     "metadata": {
      "needs_background": "light"
     },
     "output_type": "display_data"
    }
   ],
   "source": [
    "# Проверим важность признаков\n",
    "_,_ = draw_feature_importances(GB, trainX)"
   ]
  },
  {
   "cell_type": "code",
   "execution_count": null,
   "id": "d743e893",
   "metadata": {},
   "outputs": [],
   "source": []
  }
 ],
 "metadata": {
  "kernelspec": {
   "display_name": "Python 3 (ipykernel)",
   "language": "python",
   "name": "python3"
  },
  "language_info": {
   "codemirror_mode": {
    "name": "ipython",
    "version": 3
   },
   "file_extension": ".py",
   "mimetype": "text/x-python",
   "name": "python",
   "nbconvert_exporter": "python",
   "pygments_lexer": "ipython3",
   "version": "3.9.7"
  }
 },
 "nbformat": 4,
 "nbformat_minor": 5
}
