{
 "cells": [
  {
   "cell_type": "markdown",
   "id": "e3624129",
   "metadata": {},
   "source": [
    "# Лабораторная работа №5\n",
    "## Ансамбли моделей машинного обучения"
   ]
  },
  {
   "cell_type": "markdown",
   "id": "ef29c77c",
   "metadata": {},
   "source": [
    "## Задание:\n",
    "1. Выберите набор данных (датасет) для решения задачи классификации или регресии.\n",
    "2. В случае необходимости проведите удаление или заполнение пропусков и кодирование категориальных признаков.\n",
    "3. С использованием метода train_test_split разделите выборку на обучающую и тестовую.\n",
    "4. Обучите следующие ансамблевые модели:\n",
    "    - одну из моделей группы бэггинга (бэггинг или случайный лес или сверхслучайные деревья);\n",
    "    - одну из моделей группы бустинга;\n",
    "    - одну из моделей группы стекинга.\n",
    "5. (+1 балл на экзамене) Дополнительно к указанным моделям обучите еще две модели:\n",
    "    - Модель многослойного персептрона. По желанию, вместо библиотеки scikit-learn возможно использование библиотек TensorFlow, PyTorch или других аналогичных библиотек.\n",
    "    - Модель МГУА с использованием библиотеки - https://github.com/kvoyager/GmdhPy (или аналогичных библиотек). Найдите такие параметры запуска модели, при которых она будет по крайней мере не хуже, чем одна из предыдущих ансамблевых моделей.\n",
    "6. Оцените качество моделей с помощью одной из подходящих для задачи метрик. Сравните качество полученных моделей."
   ]
  },
  {
   "cell_type": "code",
   "execution_count": 174,
   "id": "b939c4aa",
   "metadata": {},
   "outputs": [],
   "source": [
    "from sklearn.impute import SimpleImputer\n",
    "from sklearn.impute import MissingIndicator\n",
    "import pandas as pd\n",
    "import numpy as np\n",
    "import matplotlib.pyplot as plt\n",
    "import seaborn as sns\n",
    "from typing import Tuple\n",
    "from sklearn.preprocessing import LabelEncoder\n",
    "from sklearn.model_selection import train_test_split\n",
    "from sklearn.linear_model import LogisticRegression\n",
    "from sklearn.svm import SVC\n",
    "from sklearn.metrics import mean_squared_error, mean_absolute_error\n",
    "from sklearn.tree import DecisionTreeClassifier\n",
    "import graphviz \n",
    "from sklearn.tree import export_graphviz\n",
    "from sklearn import tree\n",
    "from operator import itemgetter\n",
    "from sklearn.ensemble import RandomForestClassifier,RandomForestRegressor, StackingRegressor, GradientBoostingRegressor\n",
    "from sklearn.linear_model import LogisticRegression, LinearRegression"
   ]
  },
  {
   "cell_type": "code",
   "execution_count": 134,
   "id": "013647b4",
   "metadata": {},
   "outputs": [],
   "source": [
    "data = pd.read_csv(\"powerplants (global) - global_power_plants.csv\")"
   ]
  },
  {
   "cell_type": "code",
   "execution_count": 180,
   "id": "880ea998",
   "metadata": {},
   "outputs": [
    {
     "data": {
      "text/plain": [
       "pandas.core.frame.DataFrame"
      ]
     },
     "execution_count": 180,
     "metadata": {},
     "output_type": "execute_result"
    }
   ],
   "source": [
    "type(data)"
   ]
  },
  {
   "cell_type": "code",
   "execution_count": 135,
   "id": "6787cdac",
   "metadata": {},
   "outputs": [
    {
     "data": {
      "text/html": [
       "<div>\n",
       "<style scoped>\n",
       "    .dataframe tbody tr th:only-of-type {\n",
       "        vertical-align: middle;\n",
       "    }\n",
       "\n",
       "    .dataframe tbody tr th {\n",
       "        vertical-align: top;\n",
       "    }\n",
       "\n",
       "    .dataframe thead th {\n",
       "        text-align: right;\n",
       "    }\n",
       "</style>\n",
       "<table border=\"1\" class=\"dataframe\">\n",
       "  <thead>\n",
       "    <tr style=\"text-align: right;\">\n",
       "      <th></th>\n",
       "      <th>country code</th>\n",
       "      <th>country</th>\n",
       "      <th>name of powerplant</th>\n",
       "      <th>capacity in MW</th>\n",
       "      <th>latitude</th>\n",
       "      <th>longitude</th>\n",
       "      <th>primary_fuel</th>\n",
       "      <th>secondary fuel</th>\n",
       "      <th>other_fuel 1</th>\n",
       "      <th>other_fuel 2</th>\n",
       "      <th>start date</th>\n",
       "      <th>owner of plant</th>\n",
       "      <th>geolocation_source</th>\n",
       "      <th>generation_gwh_2020</th>\n",
       "      <th>generation_data_source</th>\n",
       "      <th>estimated_generation_gwh_2020</th>\n",
       "    </tr>\n",
       "  </thead>\n",
       "  <tbody>\n",
       "    <tr>\n",
       "      <th>0</th>\n",
       "      <td>AFG</td>\n",
       "      <td>Afghanistan</td>\n",
       "      <td>Kajaki Hydroelectric Power Plant Afghanistan</td>\n",
       "      <td>33.0</td>\n",
       "      <td>32.322</td>\n",
       "      <td>65.1190</td>\n",
       "      <td>Hydro</td>\n",
       "      <td>NaN</td>\n",
       "      <td>NaN</td>\n",
       "      <td>NaN</td>\n",
       "      <td>NaN</td>\n",
       "      <td>NaN</td>\n",
       "      <td>GEODB</td>\n",
       "      <td>NaN</td>\n",
       "      <td>NaN</td>\n",
       "      <td>119.50</td>\n",
       "    </tr>\n",
       "    <tr>\n",
       "      <th>1</th>\n",
       "      <td>AFG</td>\n",
       "      <td>Afghanistan</td>\n",
       "      <td>Kandahar DOG</td>\n",
       "      <td>10.0</td>\n",
       "      <td>31.670</td>\n",
       "      <td>65.7950</td>\n",
       "      <td>Solar</td>\n",
       "      <td>NaN</td>\n",
       "      <td>NaN</td>\n",
       "      <td>NaN</td>\n",
       "      <td>NaN</td>\n",
       "      <td>NaN</td>\n",
       "      <td>Wiki-Solar</td>\n",
       "      <td>NaN</td>\n",
       "      <td>NaN</td>\n",
       "      <td>18.29</td>\n",
       "    </tr>\n",
       "    <tr>\n",
       "      <th>2</th>\n",
       "      <td>AFG</td>\n",
       "      <td>Afghanistan</td>\n",
       "      <td>Kandahar JOL</td>\n",
       "      <td>10.0</td>\n",
       "      <td>31.623</td>\n",
       "      <td>65.7920</td>\n",
       "      <td>Solar</td>\n",
       "      <td>NaN</td>\n",
       "      <td>NaN</td>\n",
       "      <td>NaN</td>\n",
       "      <td>NaN</td>\n",
       "      <td>NaN</td>\n",
       "      <td>Wiki-Solar</td>\n",
       "      <td>NaN</td>\n",
       "      <td>NaN</td>\n",
       "      <td>18.72</td>\n",
       "    </tr>\n",
       "    <tr>\n",
       "      <th>3</th>\n",
       "      <td>AFG</td>\n",
       "      <td>Afghanistan</td>\n",
       "      <td>Mahipar Hydroelectric Power Plant Afghanistan</td>\n",
       "      <td>66.0</td>\n",
       "      <td>34.556</td>\n",
       "      <td>69.4787</td>\n",
       "      <td>Hydro</td>\n",
       "      <td>NaN</td>\n",
       "      <td>NaN</td>\n",
       "      <td>NaN</td>\n",
       "      <td>NaN</td>\n",
       "      <td>NaN</td>\n",
       "      <td>GEODB</td>\n",
       "      <td>NaN</td>\n",
       "      <td>NaN</td>\n",
       "      <td>174.91</td>\n",
       "    </tr>\n",
       "    <tr>\n",
       "      <th>4</th>\n",
       "      <td>AFG</td>\n",
       "      <td>Afghanistan</td>\n",
       "      <td>Naghlu Dam Hydroelectric Power Plant Afghanistan</td>\n",
       "      <td>100.0</td>\n",
       "      <td>34.641</td>\n",
       "      <td>69.7170</td>\n",
       "      <td>Hydro</td>\n",
       "      <td>NaN</td>\n",
       "      <td>NaN</td>\n",
       "      <td>NaN</td>\n",
       "      <td>NaN</td>\n",
       "      <td>NaN</td>\n",
       "      <td>GEODB</td>\n",
       "      <td>NaN</td>\n",
       "      <td>NaN</td>\n",
       "      <td>350.80</td>\n",
       "    </tr>\n",
       "  </tbody>\n",
       "</table>\n",
       "</div>"
      ],
      "text/plain": [
       "  country code      country                                name of powerplant  \\\n",
       "0          AFG  Afghanistan      Kajaki Hydroelectric Power Plant Afghanistan   \n",
       "1          AFG  Afghanistan                                      Kandahar DOG   \n",
       "2          AFG  Afghanistan                                      Kandahar JOL   \n",
       "3          AFG  Afghanistan     Mahipar Hydroelectric Power Plant Afghanistan   \n",
       "4          AFG  Afghanistan  Naghlu Dam Hydroelectric Power Plant Afghanistan   \n",
       "\n",
       "   capacity in MW  latitude  longitude primary_fuel secondary fuel  \\\n",
       "0            33.0    32.322    65.1190        Hydro            NaN   \n",
       "1            10.0    31.670    65.7950        Solar            NaN   \n",
       "2            10.0    31.623    65.7920        Solar            NaN   \n",
       "3            66.0    34.556    69.4787        Hydro            NaN   \n",
       "4           100.0    34.641    69.7170        Hydro            NaN   \n",
       "\n",
       "  other_fuel 1 other_fuel 2  start date owner of plant geolocation_source  \\\n",
       "0          NaN          NaN         NaN            NaN              GEODB   \n",
       "1          NaN          NaN         NaN            NaN         Wiki-Solar   \n",
       "2          NaN          NaN         NaN            NaN         Wiki-Solar   \n",
       "3          NaN          NaN         NaN            NaN              GEODB   \n",
       "4          NaN          NaN         NaN            NaN              GEODB   \n",
       "\n",
       "   generation_gwh_2020 generation_data_source  estimated_generation_gwh_2020  \n",
       "0                  NaN                    NaN                         119.50  \n",
       "1                  NaN                    NaN                          18.29  \n",
       "2                  NaN                    NaN                          18.72  \n",
       "3                  NaN                    NaN                         174.91  \n",
       "4                  NaN                    NaN                         350.80  "
      ]
     },
     "execution_count": 135,
     "metadata": {},
     "output_type": "execute_result"
    }
   ],
   "source": [
    "#Первые 5 записей датасета\n",
    "data.head()"
   ]
  },
  {
   "cell_type": "code",
   "execution_count": 136,
   "id": "b51a8213",
   "metadata": {},
   "outputs": [
    {
     "data": {
      "text/plain": [
       "country code                         0\n",
       "country                              0\n",
       "name of powerplant                   0\n",
       "capacity in MW                       0\n",
       "latitude                             0\n",
       "longitude                            0\n",
       "primary_fuel                         0\n",
       "secondary fuel                   32992\n",
       "other_fuel 1                     34660\n",
       "other_fuel 2                     34844\n",
       "start date                       17489\n",
       "owner of plant                   14068\n",
       "geolocation_source                 419\n",
       "generation_gwh_2020              25277\n",
       "generation_data_source           23536\n",
       "estimated_generation_gwh_2020     1798\n",
       "dtype: int64"
      ]
     },
     "execution_count": 136,
     "metadata": {},
     "output_type": "execute_result"
    }
   ],
   "source": [
    "#Проверка наличия пустых значений\n",
    "data.isnull().sum()"
   ]
  },
  {
   "cell_type": "code",
   "execution_count": 137,
   "id": "186d9ba3",
   "metadata": {},
   "outputs": [
    {
     "data": {
      "text/plain": [
       "(34936, 16)"
      ]
     },
     "execution_count": 137,
     "metadata": {},
     "output_type": "execute_result"
    }
   ],
   "source": [
    "#Размер исходного датасета\n",
    "data.shape"
   ]
  },
  {
   "cell_type": "code",
   "execution_count": 138,
   "id": "fcc596cc",
   "metadata": {
    "scrolled": true
   },
   "outputs": [
    {
     "data": {
      "text/plain": [
       "country code                      object\n",
       "country                           object\n",
       "name of powerplant                object\n",
       "capacity in MW                   float64\n",
       "latitude                         float64\n",
       "longitude                        float64\n",
       "primary_fuel                      object\n",
       "secondary fuel                    object\n",
       "other_fuel 1                      object\n",
       "other_fuel 2                      object\n",
       "start date                       float64\n",
       "owner of plant                    object\n",
       "geolocation_source                object\n",
       "generation_gwh_2020              float64\n",
       "generation_data_source            object\n",
       "estimated_generation_gwh_2020    float64\n",
       "dtype: object"
      ]
     },
     "execution_count": 138,
     "metadata": {},
     "output_type": "execute_result"
    }
   ],
   "source": [
    "#Проверка типов\n",
    "data.dtypes"
   ]
  },
  {
   "cell_type": "code",
   "execution_count": 139,
   "id": "da9a0e83",
   "metadata": {},
   "outputs": [],
   "source": [
    "def test_num_impute_col(dataset, column, strategy_param):\n",
    "    temp_data = dataset[[column]]\n",
    "    \n",
    "    indicator = MissingIndicator()\n",
    "    mask_missing_values_only = indicator.fit_transform(temp_data)\n",
    "    \n",
    "    imp_num = SimpleImputer(strategy=strategy_param)\n",
    "    data_num_imp = imp_num.fit_transform(temp_data)\n",
    "    \n",
    "    filled_data = data_num_imp[mask_missing_values_only]\n",
    "    dataset[column] = data_num_imp\n",
    "    return column, strategy_param, filled_data.size, filled_data[0], filled_data[filled_data.size-1]"
   ]
  },
  {
   "cell_type": "code",
   "execution_count": 140,
   "id": "28e4c6b5",
   "metadata": {
    "scrolled": true
   },
   "outputs": [],
   "source": [
    "#Удаление ненужных столбцов\n",
    "data = data.drop(columns=[\"generation_gwh_2020\",\"country\", \"primary_fuel\",\"secondary fuel\", \"other_fuel 1\", \"other_fuel 2\", \"owner of plant\", \"generation_data_source\", \"owner of plant\", \"start date\", \"name of powerplant\", \"country code\",\"geolocation_source\"], axis=1)\n",
    "#test_num_impute_col(data, 'generation_gwh_2020', 'median')"
   ]
  },
  {
   "cell_type": "code",
   "execution_count": 141,
   "id": "d04beda5",
   "metadata": {},
   "outputs": [],
   "source": [
    "#Кодирование категориальных признаков\n",
    "#LE = LabelEncoder()\n",
    "#for column in [\"country\",\"primary_fuel\"]:\n",
    "#    data[column] = LE.fit_transform(data[column])"
   ]
  },
  {
   "cell_type": "code",
   "execution_count": 142,
   "id": "322b434e",
   "metadata": {
    "scrolled": false
   },
   "outputs": [
    {
     "data": {
      "text/plain": [
       "capacity in MW                      0\n",
       "latitude                            0\n",
       "longitude                           0\n",
       "estimated_generation_gwh_2020    1798\n",
       "dtype: int64"
      ]
     },
     "execution_count": 142,
     "metadata": {},
     "output_type": "execute_result"
    }
   ],
   "source": [
    "data.isnull().sum()"
   ]
  },
  {
   "cell_type": "code",
   "execution_count": 143,
   "id": "6ce8ae07",
   "metadata": {},
   "outputs": [],
   "source": [
    "data = data.dropna(axis=0, how='any')"
   ]
  },
  {
   "cell_type": "code",
   "execution_count": 144,
   "id": "051f781d",
   "metadata": {},
   "outputs": [
    {
     "data": {
      "text/plain": [
       "capacity in MW                   0\n",
       "latitude                         0\n",
       "longitude                        0\n",
       "estimated_generation_gwh_2020    0\n",
       "dtype: int64"
      ]
     },
     "execution_count": 144,
     "metadata": {},
     "output_type": "execute_result"
    }
   ],
   "source": [
    "data.isnull().sum()"
   ]
  },
  {
   "cell_type": "code",
   "execution_count": 145,
   "id": "6ddb80a0",
   "metadata": {
    "scrolled": false
   },
   "outputs": [
    {
     "data": {
      "text/html": [
       "<div>\n",
       "<style scoped>\n",
       "    .dataframe tbody tr th:only-of-type {\n",
       "        vertical-align: middle;\n",
       "    }\n",
       "\n",
       "    .dataframe tbody tr th {\n",
       "        vertical-align: top;\n",
       "    }\n",
       "\n",
       "    .dataframe thead th {\n",
       "        text-align: right;\n",
       "    }\n",
       "</style>\n",
       "<table border=\"1\" class=\"dataframe\">\n",
       "  <thead>\n",
       "    <tr style=\"text-align: right;\">\n",
       "      <th></th>\n",
       "      <th>capacity in MW</th>\n",
       "      <th>latitude</th>\n",
       "      <th>longitude</th>\n",
       "      <th>estimated_generation_gwh_2020</th>\n",
       "    </tr>\n",
       "  </thead>\n",
       "  <tbody>\n",
       "    <tr>\n",
       "      <th>0</th>\n",
       "      <td>33.0</td>\n",
       "      <td>32.322</td>\n",
       "      <td>65.1190</td>\n",
       "      <td>119.50</td>\n",
       "    </tr>\n",
       "    <tr>\n",
       "      <th>1</th>\n",
       "      <td>10.0</td>\n",
       "      <td>31.670</td>\n",
       "      <td>65.7950</td>\n",
       "      <td>18.29</td>\n",
       "    </tr>\n",
       "    <tr>\n",
       "      <th>2</th>\n",
       "      <td>10.0</td>\n",
       "      <td>31.623</td>\n",
       "      <td>65.7920</td>\n",
       "      <td>18.72</td>\n",
       "    </tr>\n",
       "    <tr>\n",
       "      <th>3</th>\n",
       "      <td>66.0</td>\n",
       "      <td>34.556</td>\n",
       "      <td>69.4787</td>\n",
       "      <td>174.91</td>\n",
       "    </tr>\n",
       "    <tr>\n",
       "      <th>4</th>\n",
       "      <td>100.0</td>\n",
       "      <td>34.641</td>\n",
       "      <td>69.7170</td>\n",
       "      <td>350.80</td>\n",
       "    </tr>\n",
       "  </tbody>\n",
       "</table>\n",
       "</div>"
      ],
      "text/plain": [
       "   capacity in MW  latitude  longitude  estimated_generation_gwh_2020\n",
       "0            33.0    32.322    65.1190                         119.50\n",
       "1            10.0    31.670    65.7950                          18.29\n",
       "2            10.0    31.623    65.7920                          18.72\n",
       "3            66.0    34.556    69.4787                         174.91\n",
       "4           100.0    34.641    69.7170                         350.80"
      ]
     },
     "execution_count": 145,
     "metadata": {},
     "output_type": "execute_result"
    }
   ],
   "source": [
    "data.head()"
   ]
  },
  {
   "cell_type": "code",
   "execution_count": 146,
   "id": "b812504a",
   "metadata": {},
   "outputs": [
    {
     "data": {
      "text/plain": [
       "capacity in MW                   float64\n",
       "latitude                         float64\n",
       "longitude                        float64\n",
       "estimated_generation_gwh_2020    float64\n",
       "dtype: object"
      ]
     },
     "execution_count": 146,
     "metadata": {},
     "output_type": "execute_result"
    }
   ],
   "source": [
    "data.dtypes"
   ]
  },
  {
   "cell_type": "code",
   "execution_count": 147,
   "id": "9e22e516",
   "metadata": {},
   "outputs": [
    {
     "data": {
      "text/plain": [
       "<AxesSubplot:>"
      ]
     },
     "execution_count": 147,
     "metadata": {},
     "output_type": "execute_result"
    },
    {
     "data": {
      "image/png": "[encoded data removed]",
      "text/plain": [
       "<Figure size 1080x648 with 2 Axes>"
      ]
     },
     "metadata": {
      "needs_background": "light"
     },
     "output_type": "display_data"
    }
   ],
   "source": [
    "fig, ax = plt.subplots(figsize=(15,9))\n",
    "sns.heatmap(data.corr(method='pearson'), ax=ax, annot=True, fmt='.2f')"
   ]
  },
  {
   "cell_type": "code",
   "execution_count": 148,
   "id": "9f357ab8",
   "metadata": {},
   "outputs": [],
   "source": [
    "xArray = data.drop(\"estimated_generation_gwh_2020\", axis=1)\n",
    "yArray = data[\"estimated_generation_gwh_2020\"]"
   ]
  },
  {
   "cell_type": "code",
   "execution_count": 149,
   "id": "40f4896e",
   "metadata": {},
   "outputs": [
    {
     "data": {
      "text/plain": [
       "(       capacity in MW  latitude  longitude\n",
       " 21809            4.60   38.6522    35.7591\n",
       " 13159           26.00   51.3698     6.6615\n",
       " 2127             1.08  -15.5920   -56.0875\n",
       " 7470            30.00   22.7500   115.4167\n",
       " 11823           26.00   45.1481     3.2920\n",
       " ...               ...       ...        ...\n",
       " 8435            96.00   37.5600   105.0170\n",
       " 34282            1.30   33.9347  -116.6405\n",
       " 5814            48.00   25.3800   119.4500\n",
       " 13057           30.00   52.4903    13.8299\n",
       " 34799         1120.00   21.0725   107.3500\n",
       " \n",
       " [26510 rows x 3 columns],\n",
       "        capacity in MW  latitude  longitude\n",
       " 12039         18.7102   43.6121     4.8564\n",
       " 15879       1779.6000   36.8387    53.2593\n",
       " 5733          20.0000   33.3490   113.0820\n",
       " 17462        449.0000   25.7192  -100.1017\n",
       " 21475        114.0000   12.7547   101.1637\n",
       " ...               ...       ...        ...\n",
       " 29180          1.0000   33.9192  -118.1286\n",
       " 34096        774.0000   47.9469  -119.8653\n",
       " 837           12.0000   47.1667    15.3333\n",
       " 13190         45.0000   51.7212    11.9600\n",
       " 10723          8.7000   43.5410     5.8410\n",
       " \n",
       " [6628 rows x 3 columns],\n",
       " 21809       8.60\n",
       " 13159     127.82\n",
       " 2127        2.13\n",
       " 7470       55.66\n",
       " 11823      47.54\n",
       "           ...   \n",
       " 8435      149.96\n",
       " 34282       2.56\n",
       " 5814       89.06\n",
       " 13057      63.12\n",
       " 34799    5577.33\n",
       " Name: estimated_generation_gwh_2020, Length: 26510, dtype: float64,\n",
       " 12039      36.31\n",
       " 15879    4905.45\n",
       " 5733       36.05\n",
       " 17462    3522.24\n",
       " 21475     498.53\n",
       "           ...   \n",
       " 29180       0.18\n",
       " 34096    3037.80\n",
       " 837        50.77\n",
       " 13190      63.57\n",
       " 10723      16.10\n",
       " Name: estimated_generation_gwh_2020, Length: 6628, dtype: float64)"
      ]
     },
     "execution_count": 149,
     "metadata": {},
     "output_type": "execute_result"
    }
   ],
   "source": [
    "#Разделяем выборку для обучения модели\n",
    "trainX, testX, trainY, testY = train_test_split(xArray, yArray, test_size=0.2, random_state=1)\n",
    "trainX, testX, trainY, testY"
   ]
  },
  {
   "cell_type": "markdown",
   "id": "d7385810",
   "metadata": {},
   "source": [
    "## Случайный лес"
   ]
  },
  {
   "cell_type": "code",
   "execution_count": 155,
   "id": "cd1c57c9",
   "metadata": {
    "scrolled": true
   },
   "outputs": [
    {
     "name": "stderr",
     "output_type": "stream",
     "text": [
      "D:\\Programs\\anaconda3\\lib\\site-packages\\sklearn\\ensemble\\_forest.py:833: UserWarning: Some inputs do not have OOB scores. This probably means too few trees were used to compute any reliable oob estimates.\n",
      "  warn(\"Some inputs do not have OOB scores. \"\n"
     ]
    },
    {
     "data": {
      "text/plain": [
       "RandomForestRegressor(n_estimators=5, oob_score=True, random_state=10)"
      ]
     },
     "execution_count": 155,
     "metadata": {},
     "output_type": "execute_result"
    }
   ],
   "source": [
    "RForest = RandomForestRegressor(n_estimators=5, oob_score=True, random_state=10)\n",
    "RForest.fit(trainX, trainY)"
   ]
  },
  {
   "cell_type": "code",
   "execution_count": 156,
   "id": "da12a8b9",
   "metadata": {},
   "outputs": [
    {
     "data": {
      "text/plain": [
       "array([  35.19 , 6591.728,   36.19 , ...,   25.548,   95.982,   27.772])"
      ]
     },
     "execution_count": 156,
     "metadata": {},
     "output_type": "execute_result"
    }
   ],
   "source": [
    "RForest.predict(testX)"
   ]
  },
  {
   "cell_type": "code",
   "execution_count": 157,
   "id": "b77a20b2",
   "metadata": {},
   "outputs": [
    {
     "data": {
      "text/plain": [
       "176.03807412995374"
      ]
     },
     "execution_count": 157,
     "metadata": {},
     "output_type": "execute_result"
    }
   ],
   "source": [
    "estimateRF = mean_absolute_error(testY, RForest.predict(testX))\n",
    "estimateRF"
   ]
  },
  {
   "cell_type": "code",
   "execution_count": 165,
   "id": "27c027fb",
   "metadata": {},
   "outputs": [],
   "source": [
    "RForestarr = list()\n",
    "RForest = RandomForestRegressor(n_estimators=100, oob_score=True, random_state=10)\n",
    "RForest.fit(trainX, trainY)\n",
    "RForestarr.append(mean_absolute_error(testY, RForest.predict(testX)))"
   ]
  },
  {
   "cell_type": "code",
   "execution_count": 178,
   "id": "84cc4152",
   "metadata": {},
   "outputs": [],
   "source": [
    "RForest = RandomForestRegressor(n_estimators=200, oob_score=True, random_state=10)\n",
    "RForest.fit(trainX, trainY)\n",
    "RForestarr.append(mean_absolute_error(testY, RForest.predict(testX)))"
   ]
  },
  {
   "cell_type": "code",
   "execution_count": 179,
   "id": "2644dee6",
   "metadata": {},
   "outputs": [
    {
     "data": {
      "text/plain": [
       "[164.59361515554505, 164.58021531213186]"
      ]
     },
     "execution_count": 179,
     "metadata": {},
     "output_type": "execute_result"
    }
   ],
   "source": [
    "RForestarr"
   ]
  },
  {
   "cell_type": "markdown",
   "id": "1f82135f",
   "metadata": {},
   "source": [
    "## Boosting"
   ]
  },
  {
   "cell_type": "code",
   "execution_count": 170,
   "id": "82bab332",
   "metadata": {
    "scrolled": true
   },
   "outputs": [
    {
     "data": {
      "text/plain": [
       "GradientBoostingRegressor(random_state=1)"
      ]
     },
     "execution_count": 170,
     "metadata": {},
     "output_type": "execute_result"
    }
   ],
   "source": [
    "GB = GradientBoostingRegressor(random_state=1)\n",
    "GB.fit(trainX, trainY)"
   ]
  },
  {
   "cell_type": "code",
   "execution_count": 171,
   "id": "0ada0bbd",
   "metadata": {},
   "outputs": [
    {
     "data": {
      "text/plain": [
       "182.06374404338914"
      ]
     },
     "execution_count": 171,
     "metadata": {},
     "output_type": "execute_result"
    }
   ],
   "source": [
    "mean_absolute_error(testY, GB.predict(testX))"
   ]
  },
  {
   "cell_type": "markdown",
   "id": "702ef330",
   "metadata": {},
   "source": [
    "## Stacking"
   ]
  },
  {
   "cell_type": "code",
   "execution_count": 175,
   "id": "d27fe17e",
   "metadata": {},
   "outputs": [
    {
     "data": {
      "text/plain": [
       "StackingRegressor(estimators=[('RF',\n",
       "                               RandomForestRegressor(n_estimators=10,\n",
       "                                                     random_state=1)),\n",
       "                              ('GB',\n",
       "                               GradientBoostingRegressor(n_estimators=10,\n",
       "                                                         random_state=1))],\n",
       "                  final_estimator=LinearRegression())"
      ]
     },
     "execution_count": 175,
     "metadata": {},
     "output_type": "execute_result"
    }
   ],
   "source": [
    "base_learners = [\n",
    "                 ('RF', RandomForestRegressor(n_estimators=10, random_state=1)),\n",
    "                 ('GB', GradientBoostingRegressor(n_estimators=10, random_state=1))             \n",
    "                ]\n",
    "\n",
    "SC = StackingRegressor(estimators=base_learners, final_estimator=LinearRegression())\n",
    "SC.fit(trainX, trainY)"
   ]
  },
  {
   "cell_type": "code",
   "execution_count": 177,
   "id": "ec41aa56",
   "metadata": {},
   "outputs": [
    {
     "data": {
      "text/plain": [
       "187.3790040119118"
      ]
     },
     "execution_count": 177,
     "metadata": {},
     "output_type": "execute_result"
    }
   ],
   "source": [
    "mean_absolute_error(testY, SC.predict(testX))"
   ]
  },
  {
   "cell_type": "code",
   "execution_count": null,
   "id": "c1bbb69f",
   "metadata": {},
   "outputs": [],
   "source": []
  }
 ],
 "metadata": {
  "kernelspec": {
   "display_name": "Python 3 (ipykernel)",
   "language": "python",
   "name": "python3"
  },
  "language_info": {
   "codemirror_mode": {
    "name": "ipython",
    "version": 3
   },
   "file_extension": ".py",
   "mimetype": "text/x-python",
   "name": "python",
   "nbconvert_exporter": "python",
   "pygments_lexer": "ipython3",
   "version": "3.9.7"
  }
 },
 "nbformat": 4,
 "nbformat_minor": 5
}
